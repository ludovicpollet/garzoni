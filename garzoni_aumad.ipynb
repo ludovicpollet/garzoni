{
 "cells": [
  {
   "cell_type": "code",
   "execution_count": 27,
   "id": "43c34604",
   "metadata": {},
   "outputs": [],
   "source": [
    "import json\n",
    "\n",
    "import matplotlib.pyplot as plt\n",
    "import numpy as np\n",
    "import pandas as pd\n",
    "import seaborn as sns\n",
    "from tqdm.notebook import tqdm\n",
    "import networkx as nx"
   ]
  },
  {
   "cell_type": "code",
   "execution_count": 80,
   "id": "c405600b",
   "metadata": {},
   "outputs": [
    {
     "name": "stderr",
     "output_type": "stream",
     "text": [
      "/tmp/ipykernel_47162/26949517.py:1: UserWarning: Could not infer format, so each element will be parsed individually, falling back to `dateutil`. To ensure parsing is consistent and as-expected, please specify a format.\n",
      "  df_contracts = pd.read_excel('data/contracts.xlsx', parse_dates=['Date'])\n"
     ]
    }
   ],
   "source": [
    "df_contracts = pd.read_excel('data/contracts.xlsx', parse_dates=['Date'])\n"
   ]
  },
  {
   "cell_type": "code",
   "execution_count": null,
   "id": "8495c465",
   "metadata": {},
   "outputs": [
    {
     "data": {
      "application/vnd.microsoft.datawrangler.viewer.v0+json": {
       "columns": [
        {
         "name": "index",
         "rawType": "int64",
         "type": "integer"
        },
        {
         "name": "Contract ID",
         "rawType": "object",
         "type": "string"
        },
        {
         "name": "Register",
         "rawType": "object",
         "type": "string"
        },
        {
         "name": "Page",
         "rawType": "object",
         "type": "string"
        },
        {
         "name": "Date",
         "rawType": "object",
         "type": "string"
        }
       ],
       "ref": "bb1d2a39-fc90-4726-8cec-dbe930cd8e58",
       "rows": [
        [
         "49459",
         "015f9650-4cf2-4e09-a71e-fefc7501f6a0",
         "180",
         "f2r",
         "1724-01-02"
        ],
        [
         "49460",
         "7a840453-0871-4407-94db-ad02f3162985",
         "180",
         "f2v",
         "1724-01-03"
        ],
        [
         "49461",
         "3cdebff4-00d1-4660-ac8a-33b10a5ada14",
         "180",
         "f2v",
         "1724-01-10"
        ],
        [
         "49462",
         "5ea3d7df-8684-4039-a4ef-d5e8ed9b5c89",
         "180",
         "f2v",
         "1724-01-10"
        ],
        [
         "49463",
         "2e1ea0d4-3074-4a52-a5db-ce1a39616fb5",
         "180",
         "f2v",
         "1724-01-11"
        ],
        [
         "49464",
         "fb7a393b-5ea4-4ee2-bb93-96c6d40901f5",
         "180",
         "f2v",
         "1724-01-11"
        ],
        [
         "49465",
         "9c378899-d27a-4ff2-9e9a-01802e8c9e5c",
         "180",
         "f2v",
         "1724-01-12"
        ],
        [
         "49466",
         "e6e09207-64c2-4cf1-97db-4fc2677a9bd9",
         "180",
         "f2v",
         "1724-01-13"
        ],
        [
         "49467",
         "233acd9d-4a9f-42c8-98a4-ad1a9487db11",
         "180",
         "f3r",
         "1724-01-15"
        ],
        [
         "49468",
         "be03696d-6e58-4d48-8b37-81b5899c309c",
         "180",
         "f3r",
         "1724-01-15"
        ],
        [
         "49469",
         "350c2914-9fb5-4a1c-955d-d47e992260ed",
         "180",
         "f3r",
         "1724-01-18"
        ],
        [
         "49470",
         "86ae8a4a-5080-484e-91bb-81dbd1b9bcda",
         "180",
         "f3r",
         "1724-01-18"
        ],
        [
         "49471",
         "799902fd-c0a5-40f7-9415-a80e50c677f5",
         "180",
         "f3r",
         "1724-01-19"
        ],
        [
         "49472",
         "260fb3e2-2a46-4a20-b9d3-09fe31638428",
         "180",
         "f3v",
         "1724-01-22"
        ],
        [
         "49473",
         "342895e7-7789-43eb-a724-2bcbde390f20",
         "180",
         "f3v",
         "1724-01-22"
        ],
        [
         "49474",
         "8d2d1e08-2154-4650-a9c1-dfb659445f7d",
         "180",
         "f3v",
         "1724-01-22"
        ],
        [
         "49475",
         "6739ba8b-b235-448c-ba33-f4c5f34e93ff",
         "180",
         "f3v",
         "1724-01-23"
        ],
        [
         "49476",
         "7caa5632-d072-4e93-8809-8cccb0490f01",
         "180",
         "f4r",
         "1724-01-23"
        ],
        [
         "49477",
         "8e74664d-8ea6-4caf-b415-49d3774258b9",
         "180",
         "f4r",
         "1724-01-23"
        ],
        [
         "49478",
         "fba963ec-dbcf-4224-809b-c3817aa7adf8",
         "180",
         "f4r",
         "1724-01-23"
        ],
        [
         "49479",
         "954fc8f6-fe21-41b7-9f4c-5193d516df59",
         "180",
         "f4r",
         "1724-01-30"
        ],
        [
         "49480",
         "20ed15e0-5801-4a52-a343-5447ee4e0129",
         "180",
         "f4r",
         "1724-02-05"
        ],
        [
         "49481",
         "37ec0b36-70d2-4d19-b22f-1abeda68c679",
         "180",
         "f4r",
         "1724-02-05"
        ],
        [
         "49482",
         "0c03a00c-3550-4a6d-9810-220f414a563c",
         "180",
         "f4v",
         "1724-02-06"
        ],
        [
         "49483",
         "9b798754-e8bf-4da6-88d9-937a744e166f",
         "180",
         "f4v",
         "1724-02-06"
        ],
        [
         "49484",
         "c277ddd2-d6c0-432c-b2ec-378c5b8851b8",
         "180",
         "f4v",
         "1724-02-06"
        ],
        [
         "49485",
         "2b377ce6-13d9-41fd-9721-ff571203a006",
         "180",
         "f4v",
         "1724-02-07"
        ],
        [
         "49486",
         "1e054530-15ea-4919-b4ea-dcad41f598ef",
         "180",
         "f4v",
         "1724-02-12"
        ],
        [
         "49487",
         "af1e837a-7fdb-4d33-a118-fa0cccd21766",
         "180",
         "f4v",
         "1724-02-12"
        ],
        [
         "49488",
         "1dc61d9d-9329-45fd-a5c1-712a2ec8ff8a",
         "180",
         "f5r",
         "1724-02-14"
        ],
        [
         "49489",
         "11bfffd2-62a7-4000-bd79-2cf8e704b9a4",
         "180",
         "f5r",
         "1724-02-19"
        ],
        [
         "49490",
         "310f0d0a-d2cd-45d7-8152-8e42c349dd65",
         "180",
         "f5r",
         "1724-02-19"
        ],
        [
         "49491",
         "70efcc0a-873b-4486-8972-82e1088bba6e",
         "180",
         "f5r",
         "1724-02-19"
        ],
        [
         "49492",
         "4f803b27-30e6-4c9c-b742-25b716c314d1",
         "180",
         "f5r",
         "1724-02-20"
        ],
        [
         "49493",
         "36426819-cee3-47c7-951c-18ca852f12ed",
         "180",
         "f5r",
         "1724-02-22"
        ],
        [
         "49494",
         "a80455df-9a5d-497c-b93c-46b086902192",
         "180",
         "f5v",
         "1724-02-22"
        ],
        [
         "49495",
         "93329d98-0aaa-489f-b054-16c3f2812eab",
         "180",
         "f5v",
         "1724-02-23"
        ],
        [
         "49496",
         "9750d3b4-3ecb-4517-bade-c7059376c6a7",
         "180",
         "f5v",
         "1724-02-23"
        ],
        [
         "49497",
         "f07e48b5-22b7-4e4b-9f68-93c23c1d1149",
         "180",
         "f5v",
         "1724-02-27"
        ],
        [
         "49498",
         "3116c2d0-4d59-488c-975f-66d54e1eaf48",
         "180",
         "f2r",
         "1724-12-12"
        ],
        [
         "49499",
         "5c1865b8-bbc2-4e94-be3a-f4323a156fb0",
         "180",
         "f2r",
         "1724-12-15"
        ],
        [
         "49500",
         "21caa08d-9413-4fa0-a40e-5c0c20d57be2",
         "180",
         "f2r",
         "1724-12-16"
        ],
        [
         "49501",
         "8316adc4-5ae5-4d52-9b88-827cf6dbc469",
         "180",
         "f2r",
         "1724-12-16"
        ],
        [
         "49502",
         "9fb0bd6d-6ec4-40ef-9a34-7ccb23d9168f",
         "180",
         "f2r",
         "1724-12-16"
        ],
        [
         "49503",
         "cb334c1c-b8d8-4ccd-83ed-6e3f3566916d",
         "180",
         "f2r",
         "1724-12-19"
        ],
        [
         "49504",
         "da2b4f29-3c26-40ab-bce3-88de7dd8697c",
         "180",
         "f24v",
         "1725-01-02"
        ],
        [
         "49505",
         "6124f6f8-2032-41eb-9f7f-99cd86edafc7",
         "180",
         "f24v",
         "1725-01-03"
        ],
        [
         "49506",
         "a070a468-2015-492c-85c9-c778b6903593",
         "180",
         "f25r",
         "1725-01-05"
        ],
        [
         "49507",
         "119295f4-f314-469e-a9cc-05c7c6f4e5c4",
         "180",
         "f25r",
         "1725-01-09"
        ],
        [
         "49508",
         "5b9531fb-adec-4800-801b-e8193cdc613a",
         "180",
         "f25r",
         "1725-01-09"
        ]
       ],
       "shape": {
        "columns": 4,
        "rows": 4757
       }
      },
      "text/html": [
       "<div>\n",
       "<style scoped>\n",
       "    .dataframe tbody tr th:only-of-type {\n",
       "        vertical-align: middle;\n",
       "    }\n",
       "\n",
       "    .dataframe tbody tr th {\n",
       "        vertical-align: top;\n",
       "    }\n",
       "\n",
       "    .dataframe thead th {\n",
       "        text-align: right;\n",
       "    }\n",
       "</style>\n",
       "<table border=\"1\" class=\"dataframe\">\n",
       "  <thead>\n",
       "    <tr style=\"text-align: right;\">\n",
       "      <th></th>\n",
       "      <th>Contract ID</th>\n",
       "      <th>Register</th>\n",
       "      <th>Page</th>\n",
       "      <th>Date</th>\n",
       "    </tr>\n",
       "  </thead>\n",
       "  <tbody>\n",
       "    <tr>\n",
       "      <th>49459</th>\n",
       "      <td>015f9650-4cf2-4e09-a71e-fefc7501f6a0</td>\n",
       "      <td>180</td>\n",
       "      <td>f2r</td>\n",
       "      <td>1724-01-02</td>\n",
       "    </tr>\n",
       "    <tr>\n",
       "      <th>49460</th>\n",
       "      <td>7a840453-0871-4407-94db-ad02f3162985</td>\n",
       "      <td>180</td>\n",
       "      <td>f2v</td>\n",
       "      <td>1724-01-03</td>\n",
       "    </tr>\n",
       "    <tr>\n",
       "      <th>49461</th>\n",
       "      <td>3cdebff4-00d1-4660-ac8a-33b10a5ada14</td>\n",
       "      <td>180</td>\n",
       "      <td>f2v</td>\n",
       "      <td>1724-01-10</td>\n",
       "    </tr>\n",
       "    <tr>\n",
       "      <th>49462</th>\n",
       "      <td>5ea3d7df-8684-4039-a4ef-d5e8ed9b5c89</td>\n",
       "      <td>180</td>\n",
       "      <td>f2v</td>\n",
       "      <td>1724-01-10</td>\n",
       "    </tr>\n",
       "    <tr>\n",
       "      <th>49463</th>\n",
       "      <td>2e1ea0d4-3074-4a52-a5db-ce1a39616fb5</td>\n",
       "      <td>180</td>\n",
       "      <td>f2v</td>\n",
       "      <td>1724-01-11</td>\n",
       "    </tr>\n",
       "    <tr>\n",
       "      <th>...</th>\n",
       "      <td>...</td>\n",
       "      <td>...</td>\n",
       "      <td>...</td>\n",
       "      <td>...</td>\n",
       "    </tr>\n",
       "    <tr>\n",
       "      <th>54211</th>\n",
       "      <td>ccda404b-95ff-46fb-b491-177e2a1de4c8</td>\n",
       "      <td>182</td>\n",
       "      <td>f40r</td>\n",
       "      <td>1772-05-09</td>\n",
       "    </tr>\n",
       "    <tr>\n",
       "      <th>54212</th>\n",
       "      <td>40f49aa3-bff4-4221-a22a-801df6f7c899</td>\n",
       "      <td>182</td>\n",
       "      <td>f40r</td>\n",
       "      <td>1772-05-13</td>\n",
       "    </tr>\n",
       "    <tr>\n",
       "      <th>54213</th>\n",
       "      <td>da38eb53-b74b-42e6-ae03-5f978fcb12d3</td>\n",
       "      <td>182</td>\n",
       "      <td>f40v</td>\n",
       "      <td>1772-05-19</td>\n",
       "    </tr>\n",
       "    <tr>\n",
       "      <th>54214</th>\n",
       "      <td>b89c26a8-24fc-4bb3-9b23-607faa10b082</td>\n",
       "      <td>182</td>\n",
       "      <td>f40v</td>\n",
       "      <td>1772-05-29</td>\n",
       "    </tr>\n",
       "    <tr>\n",
       "      <th>54215</th>\n",
       "      <td>af710400-2376-4534-b4e8-c44246c114dd</td>\n",
       "      <td>182</td>\n",
       "      <td>f40v</td>\n",
       "      <td>1772-05-30</td>\n",
       "    </tr>\n",
       "  </tbody>\n",
       "</table>\n",
       "<p>4757 rows × 4 columns</p>\n",
       "</div>"
      ],
      "text/plain": [
       "                                Contract ID Register  Page        Date\n",
       "49459  015f9650-4cf2-4e09-a71e-fefc7501f6a0      180   f2r  1724-01-02\n",
       "49460  7a840453-0871-4407-94db-ad02f3162985      180   f2v  1724-01-03\n",
       "49461  3cdebff4-00d1-4660-ac8a-33b10a5ada14      180   f2v  1724-01-10\n",
       "49462  5ea3d7df-8684-4039-a4ef-d5e8ed9b5c89      180   f2v  1724-01-10\n",
       "49463  2e1ea0d4-3074-4a52-a5db-ce1a39616fb5      180   f2v  1724-01-11\n",
       "...                                     ...      ...   ...         ...\n",
       "54211  ccda404b-95ff-46fb-b491-177e2a1de4c8      182  f40r  1772-05-09\n",
       "54212  40f49aa3-bff4-4221-a22a-801df6f7c899      182  f40r  1772-05-13\n",
       "54213  da38eb53-b74b-42e6-ae03-5f978fcb12d3      182  f40v  1772-05-19\n",
       "54214  b89c26a8-24fc-4bb3-9b23-607faa10b082      182  f40v  1772-05-29\n",
       "54215  af710400-2376-4534-b4e8-c44246c114dd      182  f40v  1772-05-30\n",
       "\n",
       "[4757 rows x 4 columns]"
      ]
     },
     "execution_count": 82,
     "metadata": {},
     "output_type": "execute_result"
    }
   ],
   "source": []
  },
  {
   "cell_type": "code",
   "execution_count": 2,
   "id": "c6461e74",
   "metadata": {},
   "outputs": [],
   "source": [
    "df_relationships = pd.read_excel('data/person_relationships.xlsx')\n",
    "df_contracts = pd.read_excel('data/contracts.xlsx')\n",
    "df_person_mentions = pd.read_excel('data/person_mentions.xlsx')"
   ]
  },
  {
   "cell_type": "code",
   "execution_count": 47,
   "id": "930de1a3",
   "metadata": {},
   "outputs": [
    {
     "data": {
      "application/vnd.microsoft.datawrangler.viewer.v0+json": {
       "columns": [
        {
         "name": "index",
         "rawType": "int64",
         "type": "integer"
        },
        {
         "name": "Person 1 ID",
         "rawType": "object",
         "type": "string"
        },
        {
         "name": "Person 1 Name",
         "rawType": "object",
         "type": "string"
        },
        {
         "name": "Relationship Type",
         "rawType": "object",
         "type": "string"
        },
        {
         "name": "Person 2 ID",
         "rawType": "object",
         "type": "string"
        },
        {
         "name": "Person 2 Name",
         "rawType": "object",
         "type": "string"
        }
       ],
       "ref": "7e38177f-5743-4a05-b4de-ec54f6c5c4c4",
       "rows": [
        [
         "0",
         "df4efd40-3fdb-4fd8-8ca0-1c53520e75f6",
         "Abbondi Di Rossi",
         "grz:isSonOf",
         "38f1b3fe-857c-4dad-97cd-aa80eb5e70bb",
         "Francesco Di Rossi (da Milano)"
        ],
        [
         "1",
         "d9838b83-e2c7-42c8-b036-6799d5ca734a",
         "Abbondio D'Apiano",
         "grz:isFatherOf",
         "906b7b06-0ed8-4c9e-b525-88f48d5ca056",
         "Francesco D'Apiano"
        ],
        [
         "2",
         "1f2e35f8-e3c0-47c3-8778-fe9f92bea25a",
         "Abbondio Del Bondio",
         "grz:isSonOf",
         "4a7e7333-8bf7-4514-993f-0ea3f953fa91",
         "Abbondio Del Bondio 177266"
        ],
        [
         "3",
         "8bf2a7c7-4797-439e-8ed5-6717a4eaf51d",
         "Abbondio Gracio",
         "grz:isFatherOf",
         "8d55328a-e415-4d42-a9ca-e048a3c12970",
         "Bernardo Gracio"
        ],
        [
         "4",
         "7844c44f-2687-492f-9953-439070506903",
         "Abbondio Pain",
         "grz:isSonOf",
         "c64f5c72-75ca-456c-b8eb-39b3c943fcdc",
         "Antonio Pain 173404"
        ],
        [
         "5",
         "b3768266-266a-4c41-8c97-edc7e77ecb0f",
         "Abbondio Roi",
         "grz:isBrotherOf",
         "b75cfad7-096a-4ed6-8102-9b37b9340ce5",
         "Giovanni Maria Roi"
        ],
        [
         "6",
         "f874da4a-e45c-436a-b57b-c2649fdbce6a",
         "Abbondio Rongantin",
         "grz:isSonOf",
         "8c9dfa72-66e9-40d6-b202-c3274342d040",
         "Antonio Rongantin 180428"
        ],
        [
         "7",
         "250bd68b-76b4-4507-a7eb-df1b183630aa",
         "Abbondio Sardi",
         "grz:isSonOf",
         "ee68dcbc-dbc7-4949-9fd2-3b68957f7c87",
         "Domenico Antonio Sardi"
        ],
        [
         "8",
         "32196cca-32ee-4f95-9137-9c4948d9fb79",
         "Abele di Francesco",
         "grz:isSonOf",
         "3117e711-a092-4859-b3bb-40a6f56721c9",
         "Francesco di Pasqualino (fattor)"
        ],
        [
         "9",
         "32196cca-32ee-4f95-9137-9c4948d9fb79",
         "Abele di Francesco",
         "grz:isGrandsonOf",
         "274c5ce0-a608-4b3c-aa14-558c5c319e93",
         "Pasqualino 151161"
        ],
        [
         "10",
         "151b9f23-b62d-48a5-b8d4-4138b32b306e",
         "Abram di Ferege",
         "grz:isSonOf",
         "da304c7f-7c75-4997-9cca-778dd6d3a96a",
         "Ferege"
        ],
        [
         "11",
         "e8faf9ea-5a97-447e-936f-5dacf072f700",
         "Abram di Nicolò (petener)",
         "grz:isSonOf",
         "488600b3-7e83-4394-a942-e1a4c143badc",
         "Nicolò 157133"
        ],
        [
         "12",
         "8bb8f2aa-1b72-4b50-9723-c2f2ba60ed43",
         "Abram Dolce",
         "grz:isSonOf",
         "15caf69e-1d9c-40ba-9bec-b838d227961f",
         "Lorenzo Dolce"
        ],
        [
         "13",
         "ba63b706-3020-46d4-9bd7-8b813029b9b4",
         "Abramo 162446",
         "grz:isFatherOf",
         "99b83179-b185-421a-a1fd-75a16cbc8528",
         "Cristoforo 162446"
        ],
        [
         "14",
         "571e500c-deef-4cd4-be1b-3f1bd3b5a803",
         "Abramo Capanin 179165",
         "grz:isSonOf",
         "1ca89be8-e6b5-4a63-b6c0-e26495d9ff3c",
         "Abramo Capanin"
        ],
        [
         "15",
         "f20b1cd0-6c68-4801-86d8-9bb162a8a15e",
         "Abramo Capanino",
         "grz:isSonOf",
         "2167417f-39df-44e0-bde0-0a2e14a5380f",
         "Abramo Capanino 179149"
        ],
        [
         "16",
         "f28a1b2d-ca59-499c-a6e7-bf2e8c7bb525",
         "Abramo di Mariano (cuori d'oro)",
         "grz:isSonOf",
         "57ef7e0a-27b4-4593-9c8b-bc486ab0b382",
         "Mariano 160373"
        ],
        [
         "17",
         "10e352c2-f111-41f3-88c1-54604d573b9c",
         "Abramo Ferazzo",
         "grz:isUncleOf",
         "fa1cb866-ebf8-4b10-b49f-ff848805c937",
         "Andrea Ferazzo"
        ],
        [
         "18",
         "d63f8f9e-71bf-47ca-a7ce-773e01971672",
         "Abramo Montanari",
         "grz:isSonOf",
         "5ea81e83-2c7a-469a-91ad-9ad74cb3b5df",
         "Uberto Montanari"
        ],
        [
         "19",
         "158bccdd-4167-4e18-b999-9189271f8864",
         "Abramo Nesse",
         "grz:isSonOf",
         "e16cd013-33e1-4ed3-a413-c751e1a79ede",
         "Giovanni Nesse"
        ],
        [
         "20",
         "1feb8090-c78c-46e2-94d6-bf11ca4c16db",
         "Achile di Valentini",
         "grz:isSonOf",
         "e8d9a0c6-cdfc-4a9e-b70f-b8f96700eb59",
         "Vicenzo di Valentini"
        ],
        [
         "21",
         "32a926ed-ec94-4575-abbf-c56ec67a3ebb",
         "Achille 153-II306",
         "grz:isFatherOf",
         "2773b53e-7472-4d8d-8436-f05b747e6b9f",
         "Pomponio di Achille (marangon)"
        ],
        [
         "22",
         "00108b54-2e8a-49a8-936a-5aafd4d33f6d",
         "Achille 162330",
         "grz:isBrotherOf",
         "fecc0b21-3fcc-44eb-aab7-815e84690a06",
         "Baldo 162330"
        ],
        [
         "23",
         "af226988-4153-46a8-95c1-056c2d4c53cf",
         "Achille (spezier)",
         "grz:isBrotherOf",
         "c44e0b34-0a44-4231-83e9-ae7687c4a005",
         "Domenico (spezier) 158246"
        ],
        [
         "24",
         "e01d299f-b702-46b9-bf67-74b6ba2ea873",
         "Adamo 1",
         "grz:isFatherOf",
         "45026ded-8e12-4f36-9d81-984f6acdae49",
         "Andrea di Adamo (tellariol)"
        ],
        [
         "25",
         "f45ac596-6f00-4013-9c5a-b3cd4574c6e0",
         "Adamo 153-II27",
         "grz:isFatherOf",
         "715f0b56-c435-4872-bac0-5f2608636fb7",
         "Cristina di Adamo"
        ],
        [
         "26",
         "37405420-d655-47a8-8477-1e57cea23de0",
         "Adamo 153-II73",
         "grz:isFatherOf",
         "948ff6e0-c26f-4f55-a5c3-3e89dac87399",
         "Marco di Adamo (burchier)"
        ],
        [
         "27",
         "33fbaad4-2218-4453-9ff6-2d92e16dc30b",
         "Adamo 162126",
         "grz:isFatherOf",
         "f55ff7ec-0a43-412e-8298-4a508844cd36",
         "Giovanni 162126"
        ],
        [
         "28",
         "bc29a19e-dcf7-4202-b35a-342166ee40f9",
         "Adamo 2",
         "grz:isFatherOf",
         "eabee93e-c744-4719-bafc-b31c142b51ee",
         "Geronimo de Adamo"
        ],
        [
         "29",
         "34354041-da8f-4cd1-b3ba-9fb3138f4bab",
         "Adamo Adami",
         "grz:isSonOf",
         "c323af6a-fae7-4829-8048-9b6f8432d030",
         "Giacomo Adami 179137"
        ],
        [
         "30",
         "2a1ca342-b4c2-4776-899b-603e8520dacc",
         "Adamo Adami 181266",
         "grz:isSonOf",
         "c61ef3ed-e538-4d57-9e7f-7d26b935dbcd",
         "Nicolò Adami"
        ],
        [
         "31",
         "99c0c207-dce8-4b86-9ab5-f386dbac31a2",
         "Adamo Adrio",
         "grz:isSonOf",
         "068b318f-a8a8-4ac0-8cee-5582b4d727d8",
         "Giacomo Adrio"
        ],
        [
         "32",
         "b020af49-6f5f-42af-98bb-db54736b56b4",
         "Adamo Bireaza",
         "grz:isSonOf",
         "934c7182-a169-48ca-b00b-dbc881b076e1",
         "Pasqualin Bireaza"
        ],
        [
         "33",
         "9070daf3-f8ab-4ed7-aeca-24463935d98f",
         "Adamo Bon",
         "grz:isGrandsonOf",
         "a2d13fb5-f546-474c-a3d4-c3e4d2494d87",
         "Pietro Bon 168288"
        ],
        [
         "34",
         "962e0799-7b8b-46a3-9a10-986c09d6d824",
         "Adamo Braghisa",
         "grz:isSonOf",
         "3f34da69-9d4e-4431-a347-056416352011",
         "Antonio Braghisa"
        ],
        [
         "35",
         "b20fe230-15ce-4e85-908e-810c449409db",
         "Adamo Cararo",
         "grz:isSonOf",
         "c732af12-9a5c-4fef-8292-3bff60d7272b",
         "Domenico Cararo"
        ],
        [
         "36",
         "7e299e92-14e4-45e7-beb5-4b04fc80cf82",
         "Adamo Cernadoi",
         "grz:isSonOf",
         "34080497-b506-4df9-9cff-f43e5882072a",
         "Valerio Cernadoi 179234"
        ],
        [
         "37",
         "c5168a35-1e83-4ee6-917d-b810fe6abd4e",
         "Adamo Chiarel",
         "grz:isSonOf",
         "e072edb9-9a73-46ad-934b-243772231509",
         "Girolamo Chiarel"
        ],
        [
         "38",
         "2228743d-b4a5-4053-87b6-9bfd34cc4996",
         "Adamo Condolf",
         "grz:isSonOf",
         "7949a03f-428f-422d-ab3c-7148103e6427",
         "Giorgio Condolf"
        ],
        [
         "39",
         "e73776f1-fab8-4f5f-90bd-fa841dbb9f70",
         "Adamo De Angelina",
         "grz:isSonOf",
         "a200f5c4-eaae-485b-9988-1ffc02b4ac47",
         "Andrea De Angelina"
        ],
        [
         "40",
         "30311c77-1596-4f85-8f75-429b8ec9e4be",
         "Adamo De Angelo",
         "grz:isAuntOf",
         "b480a677-cc48-4705-84fd-9a4768506213",
         "Giovanni Antonio De Silvestro"
        ],
        [
         "41",
         "617b780f-3245-4821-9b1e-170fe15f93da",
         "Adamo De Collazzo",
         "grz:isSonOf",
         "f6435616-7a13-4a8f-a009-438f480218a8",
         "Marco De Collazzo"
        ],
        [
         "42",
         "333381c6-2511-4327-8ebf-cf4d7b8f25cf",
         "Adamo de Fostin",
         "grz:isSonOf",
         "034f03ad-c2cc-4e00-b6b3-10a075b137d6",
         "Lodovico de Fostin"
        ],
        [
         "43",
         "67c51c4b-8912-40a4-a4e5-0733b25542ba",
         "Adamo de Matteo",
         "grz:isSonOf",
         "324b4598-50d8-4ed4-a981-3200b9ea360c",
         "Matteo 161357"
        ],
        [
         "44",
         "f05f9553-45f7-4ee8-9a07-63c71d61bf35",
         "Adamo de Vincenzo Adamo",
         "grz:isSonOf",
         "5be87f16-d828-4dad-abf7-d1b7611a48ee",
         "Vincenzo Adamo"
        ],
        [
         "45",
         "b1628f04-a761-4bcf-a651-65b8fbba8bda",
         "Adamo di Andrea 172223",
         "grz:isSonOf",
         "3e4b38d0-00bf-4e84-be04-35c9bc9bf6c8",
         "Andrea 172223"
        ],
        [
         "46",
         "b0088050-d30e-4a28-b2e2-459df8051496",
         "Adamo di Francesco 173592",
         "grz:isSonOf",
         "984bc98b-51ef-4f02-bc68-2b5e920cabe6",
         "Francesco 173592"
        ],
        [
         "47",
         "38ab5fa9-0c87-4009-92e4-4d822b86736f",
         "Adamo di Giuseppe",
         "grz:isSonOf",
         "650b9155-c7bc-4f9a-8f12-3c3170dd85d3",
         "Giuseppe 156297"
        ],
        [
         "48",
         "989e012a-761d-4578-b39f-3899a745ce6a",
         "Adamo di Isepo",
         "grz:isSonOf",
         "ca9ddff8-c137-45ad-a249-d50785399cb5",
         "Isepo (da Rivasecca)"
        ],
        [
         "49",
         "fdb1baca-1f23-4470-9c5b-d6e7c07ba41c",
         "Adamo di Leonardo",
         "grz:isGrandsonOf",
         "0daeac33-a411-4298-98dc-f51337bbe61a",
         "Adamo 165237"
        ]
       ],
       "shape": {
        "columns": 5,
        "rows": 79624
       }
      },
      "text/html": [
       "<div>\n",
       "<style scoped>\n",
       "    .dataframe tbody tr th:only-of-type {\n",
       "        vertical-align: middle;\n",
       "    }\n",
       "\n",
       "    .dataframe tbody tr th {\n",
       "        vertical-align: top;\n",
       "    }\n",
       "\n",
       "    .dataframe thead th {\n",
       "        text-align: right;\n",
       "    }\n",
       "</style>\n",
       "<table border=\"1\" class=\"dataframe\">\n",
       "  <thead>\n",
       "    <tr style=\"text-align: right;\">\n",
       "      <th></th>\n",
       "      <th>Person 1 ID</th>\n",
       "      <th>Person 1 Name</th>\n",
       "      <th>Relationship Type</th>\n",
       "      <th>Person 2 ID</th>\n",
       "      <th>Person 2 Name</th>\n",
       "    </tr>\n",
       "  </thead>\n",
       "  <tbody>\n",
       "    <tr>\n",
       "      <th>0</th>\n",
       "      <td>df4efd40-3fdb-4fd8-8ca0-1c53520e75f6</td>\n",
       "      <td>Abbondi Di Rossi</td>\n",
       "      <td>grz:isSonOf</td>\n",
       "      <td>38f1b3fe-857c-4dad-97cd-aa80eb5e70bb</td>\n",
       "      <td>Francesco Di Rossi (da Milano)</td>\n",
       "    </tr>\n",
       "    <tr>\n",
       "      <th>1</th>\n",
       "      <td>d9838b83-e2c7-42c8-b036-6799d5ca734a</td>\n",
       "      <td>Abbondio D'Apiano</td>\n",
       "      <td>grz:isFatherOf</td>\n",
       "      <td>906b7b06-0ed8-4c9e-b525-88f48d5ca056</td>\n",
       "      <td>Francesco D'Apiano</td>\n",
       "    </tr>\n",
       "    <tr>\n",
       "      <th>2</th>\n",
       "      <td>1f2e35f8-e3c0-47c3-8778-fe9f92bea25a</td>\n",
       "      <td>Abbondio Del Bondio</td>\n",
       "      <td>grz:isSonOf</td>\n",
       "      <td>4a7e7333-8bf7-4514-993f-0ea3f953fa91</td>\n",
       "      <td>Abbondio Del Bondio 177266</td>\n",
       "    </tr>\n",
       "    <tr>\n",
       "      <th>3</th>\n",
       "      <td>8bf2a7c7-4797-439e-8ed5-6717a4eaf51d</td>\n",
       "      <td>Abbondio Gracio</td>\n",
       "      <td>grz:isFatherOf</td>\n",
       "      <td>8d55328a-e415-4d42-a9ca-e048a3c12970</td>\n",
       "      <td>Bernardo Gracio</td>\n",
       "    </tr>\n",
       "    <tr>\n",
       "      <th>4</th>\n",
       "      <td>7844c44f-2687-492f-9953-439070506903</td>\n",
       "      <td>Abbondio Pain</td>\n",
       "      <td>grz:isSonOf</td>\n",
       "      <td>c64f5c72-75ca-456c-b8eb-39b3c943fcdc</td>\n",
       "      <td>Antonio Pain 173404</td>\n",
       "    </tr>\n",
       "    <tr>\n",
       "      <th>...</th>\n",
       "      <td>...</td>\n",
       "      <td>...</td>\n",
       "      <td>...</td>\n",
       "      <td>...</td>\n",
       "      <td>...</td>\n",
       "    </tr>\n",
       "    <tr>\n",
       "      <th>79619</th>\n",
       "      <td>e0227c5a-086f-4752-a0f4-c846f0760f63</td>\n",
       "      <td>Zulian Raimondi</td>\n",
       "      <td>grz:isSonOf</td>\n",
       "      <td>618dbe06-e977-48fb-af07-13f72424ca68</td>\n",
       "      <td>Antonio Raimondi</td>\n",
       "    </tr>\n",
       "    <tr>\n",
       "      <th>79620</th>\n",
       "      <td>97d8b2df-bee3-45e4-a713-c1442f21d9c4</td>\n",
       "      <td>Zulian Zoretti</td>\n",
       "      <td>grz:isSonOf</td>\n",
       "      <td>51f7ae21-d016-4b9a-b89e-bc645b768f2c</td>\n",
       "      <td>Domenego Zoretti</td>\n",
       "    </tr>\n",
       "    <tr>\n",
       "      <th>79621</th>\n",
       "      <td>5a7c86fb-6967-441d-bd07-0e299f9ab652</td>\n",
       "      <td>Zulin di Per Zulin</td>\n",
       "      <td>grz:isUncleOf</td>\n",
       "      <td>7d2f2a41-a6fd-4648-9c52-a272ec9c7c86</td>\n",
       "      <td>Piero Manfredo</td>\n",
       "    </tr>\n",
       "    <tr>\n",
       "      <th>79622</th>\n",
       "      <td>ba674d78-8614-4dee-8486-eadaa7435acf</td>\n",
       "      <td>Zuna Battista de Piaza</td>\n",
       "      <td>grz:isSonOf</td>\n",
       "      <td>4c35094b-d9a0-4bda-ad26-6fd056dddc54</td>\n",
       "      <td>Liberal de Piaza</td>\n",
       "    </tr>\n",
       "    <tr>\n",
       "      <th>79623</th>\n",
       "      <td>2245e585-f81a-4319-8452-04539db642c4</td>\n",
       "      <td>Zusto de Battista</td>\n",
       "      <td>grz:isSonOf</td>\n",
       "      <td>9ad59431-d8ec-47fa-a08c-e51422b00818</td>\n",
       "      <td>Battista (samiter)</td>\n",
       "    </tr>\n",
       "  </tbody>\n",
       "</table>\n",
       "<p>79624 rows × 5 columns</p>\n",
       "</div>"
      ],
      "text/plain": [
       "                                Person 1 ID           Person 1 Name  \\\n",
       "0      df4efd40-3fdb-4fd8-8ca0-1c53520e75f6        Abbondi Di Rossi   \n",
       "1      d9838b83-e2c7-42c8-b036-6799d5ca734a       Abbondio D'Apiano   \n",
       "2      1f2e35f8-e3c0-47c3-8778-fe9f92bea25a     Abbondio Del Bondio   \n",
       "3      8bf2a7c7-4797-439e-8ed5-6717a4eaf51d         Abbondio Gracio   \n",
       "4      7844c44f-2687-492f-9953-439070506903           Abbondio Pain   \n",
       "...                                     ...                     ...   \n",
       "79619  e0227c5a-086f-4752-a0f4-c846f0760f63         Zulian Raimondi   \n",
       "79620  97d8b2df-bee3-45e4-a713-c1442f21d9c4          Zulian Zoretti   \n",
       "79621  5a7c86fb-6967-441d-bd07-0e299f9ab652      Zulin di Per Zulin   \n",
       "79622  ba674d78-8614-4dee-8486-eadaa7435acf  Zuna Battista de Piaza   \n",
       "79623  2245e585-f81a-4319-8452-04539db642c4       Zusto de Battista   \n",
       "\n",
       "      Relationship Type                           Person 2 ID  \\\n",
       "0           grz:isSonOf  38f1b3fe-857c-4dad-97cd-aa80eb5e70bb   \n",
       "1        grz:isFatherOf  906b7b06-0ed8-4c9e-b525-88f48d5ca056   \n",
       "2           grz:isSonOf  4a7e7333-8bf7-4514-993f-0ea3f953fa91   \n",
       "3        grz:isFatherOf  8d55328a-e415-4d42-a9ca-e048a3c12970   \n",
       "4           grz:isSonOf  c64f5c72-75ca-456c-b8eb-39b3c943fcdc   \n",
       "...                 ...                                   ...   \n",
       "79619       grz:isSonOf  618dbe06-e977-48fb-af07-13f72424ca68   \n",
       "79620       grz:isSonOf  51f7ae21-d016-4b9a-b89e-bc645b768f2c   \n",
       "79621     grz:isUncleOf  7d2f2a41-a6fd-4648-9c52-a272ec9c7c86   \n",
       "79622       grz:isSonOf  4c35094b-d9a0-4bda-ad26-6fd056dddc54   \n",
       "79623       grz:isSonOf  9ad59431-d8ec-47fa-a08c-e51422b00818   \n",
       "\n",
       "                        Person 2 Name  \n",
       "0      Francesco Di Rossi (da Milano)  \n",
       "1                  Francesco D'Apiano  \n",
       "2          Abbondio Del Bondio 177266  \n",
       "3                     Bernardo Gracio  \n",
       "4                 Antonio Pain 173404  \n",
       "...                               ...  \n",
       "79619                Antonio Raimondi  \n",
       "79620                Domenego Zoretti  \n",
       "79621                  Piero Manfredo  \n",
       "79622                Liberal de Piaza  \n",
       "79623              Battista (samiter)  \n",
       "\n",
       "[79624 rows x 5 columns]"
      ]
     },
     "execution_count": 47,
     "metadata": {},
     "output_type": "execute_result"
    }
   ],
   "source": [
    "df_relationships"
   ]
  },
  {
   "cell_type": "code",
   "execution_count": null,
   "id": "3455b637",
   "metadata": {},
   "outputs": [
    {
     "name": "stdout",
     "output_type": "stream",
     "text": [
      "20846\n",
      "238872\n"
     ]
    }
   ],
   "source": [
    "all_person_ids = df_relationships['Person 1 ID'].tolist() + df_relationships['Person 2 ID'].tolist() + df_relationships['Person 1 Name'].tolist() \n",
    "print(len(all_person_ids)- len(set(all_person_ids)))\n",
    "print(len(all_person_ids))\n",
    "\n",
    "\n",
    "\n"
   ]
  },
  {
   "cell_type": "code",
   "execution_count": 15,
   "id": "46d9aa15",
   "metadata": {},
   "outputs": [
    {
     "data": {
      "application/vnd.microsoft.datawrangler.viewer.v0+json": {
       "columns": [
        {
         "name": "index",
         "rawType": "int64",
         "type": "integer"
        },
        {
         "name": "Person 1 ID",
         "rawType": "object",
         "type": "string"
        },
        {
         "name": "Person 1 Name",
         "rawType": "object",
         "type": "string"
        },
        {
         "name": "Relationship Type",
         "rawType": "object",
         "type": "string"
        },
        {
         "name": "Person 2 ID",
         "rawType": "object",
         "type": "string"
        },
        {
         "name": "Person 2 Name",
         "rawType": "object",
         "type": "string"
        }
       ],
       "ref": "26eec63a-0d42-4974-a448-c440e07532cf",
       "rows": [
        [
         "1",
         "d9838b83-e2c7-42c8-b036-6799d5ca734a",
         "Abbondio D'Apiano",
         "grz:isFatherOf",
         "906b7b06-0ed8-4c9e-b525-88f48d5ca056",
         "Francesco D'Apiano"
        ],
        [
         "3",
         "8bf2a7c7-4797-439e-8ed5-6717a4eaf51d",
         "Abbondio Gracio",
         "grz:isFatherOf",
         "8d55328a-e415-4d42-a9ca-e048a3c12970",
         "Bernardo Gracio"
        ],
        [
         "13",
         "ba63b706-3020-46d4-9bd7-8b813029b9b4",
         "Abramo 162446",
         "grz:isFatherOf",
         "99b83179-b185-421a-a1fd-75a16cbc8528",
         "Cristoforo 162446"
        ],
        [
         "21",
         "32a926ed-ec94-4575-abbf-c56ec67a3ebb",
         "Achille 153-II306",
         "grz:isFatherOf",
         "2773b53e-7472-4d8d-8436-f05b747e6b9f",
         "Pomponio di Achille (marangon)"
        ],
        [
         "24",
         "e01d299f-b702-46b9-bf67-74b6ba2ea873",
         "Adamo 1",
         "grz:isFatherOf",
         "45026ded-8e12-4f36-9d81-984f6acdae49",
         "Andrea di Adamo (tellariol)"
        ],
        [
         "25",
         "f45ac596-6f00-4013-9c5a-b3cd4574c6e0",
         "Adamo 153-II27",
         "grz:isFatherOf",
         "715f0b56-c435-4872-bac0-5f2608636fb7",
         "Cristina di Adamo"
        ],
        [
         "26",
         "37405420-d655-47a8-8477-1e57cea23de0",
         "Adamo 153-II73",
         "grz:isFatherOf",
         "948ff6e0-c26f-4f55-a5c3-3e89dac87399",
         "Marco di Adamo (burchier)"
        ],
        [
         "27",
         "33fbaad4-2218-4453-9ff6-2d92e16dc30b",
         "Adamo 162126",
         "grz:isFatherOf",
         "f55ff7ec-0a43-412e-8298-4a508844cd36",
         "Giovanni 162126"
        ],
        [
         "28",
         "bc29a19e-dcf7-4202-b35a-342166ee40f9",
         "Adamo 2",
         "grz:isFatherOf",
         "eabee93e-c744-4719-bafc-b31c142b51ee",
         "Geronimo de Adamo"
        ],
        [
         "56",
         "422c2e60-e90f-4b07-a57b-0e4940223f8d",
         "Adamo Galasso",
         "grz:isFatherOf",
         "115f4749-5a81-4daf-95d9-421b23e25755",
         "Giacoma Galasso"
        ],
        [
         "58",
         "c6218a9c-4d78-414a-b25b-98c3f9ce9aec",
         "Adamo Gentilati",
         "grz:isFatherOf",
         "738a114b-1cc4-4ab1-b9f5-58006a3bc6f0",
         "Domenico Gentilati"
        ],
        [
         "59",
         "cd95086d-f0e4-4d22-bef6-d31c11fd6c17",
         "Adamo Gentilatti",
         "grz:isFatherOf",
         "454514b8-f7fe-4cb3-915b-99dab541d307",
         "Giuseppe Gentilatti"
        ],
        [
         "61",
         "27a88481-d9fe-4111-b807-f1392c25b9f2",
         "Adamo Levico",
         "grz:isFatherOf",
         "2ee5803a-b903-4a1f-ae96-de5584e9d1f0",
         "Antonio Levico"
        ],
        [
         "68",
         "32edef3e-ab8f-4787-86f3-8e9c64cecee9",
         "Adamo Pani",
         "grz:isFatherOf",
         "efecb3c1-75a4-49ea-aa99-1950b0484c17",
         "Zuane Pani"
        ],
        [
         "76",
         "382115cd-9827-4c71-94d0-168f78a62793",
         "Adamo Zentilatta",
         "grz:isFatherOf",
         "5162e532-28ee-4450-8e0a-e8ecb741e27d",
         "Isepo Zentilatta"
        ],
        [
         "131",
         "5015c520-a2c9-46d5-b528-4813b4eda40f",
         "Agado De Agadi",
         "grz:isFatherOf",
         "c77cf2e3-375f-4e9d-8b04-c29f2045038a",
         "Antonio De Agadi"
        ],
        [
         "171",
         "ff7d2bc0-9fe6-4e2b-a3ed-a5e4456684f9",
         "Agnolo De Valle",
         "grz:isFatherOf",
         "1e39d150-171e-4088-8dbf-7ae69150ff9a",
         "Vincenzo De Valle"
        ],
        [
         "179",
         "f3d7b4a1-7848-480a-877f-0cd49983b535",
         "Agnolo Fachin",
         "grz:isFatherOf",
         "dd469c68-c0b7-4f8b-9cf3-e6bf42113df8",
         "Piero Fachin"
        ],
        [
         "182",
         "18dc4d0b-7cff-4788-a0bd-a59713167bed",
         "Agnolo Meneghini",
         "grz:isFatherOf",
         "ef085bd3-b17e-42ca-b2f0-10c2e77e5649",
         "Giacomo Meneghini"
        ],
        [
         "192",
         "3ded01dc-e990-477d-ab84-3ff15bf4e9e7",
         "Agnolo Scarabelli",
         "grz:isFatherOf",
         "066b2cc7-31c9-4d51-9a37-32def0d1d1a0",
         "Bonifacio Scarabelli"
        ],
        [
         "209",
         "fd30c68d-8d20-49c1-86b4-1cad6da1d32e",
         "Agostin Ganassa",
         "grz:isFatherOf",
         "e423c4be-e44e-4fbc-8e4c-75a13a8ae0fe",
         "Lorenzo Ganassa"
        ],
        [
         "215",
         "6a9140f7-c4c6-4e3e-9550-4920041bb69d",
         "Agostini Furlan",
         "grz:isFatherOf",
         "d5f50527-46b9-4816-8211-db48230e6c2f",
         "Martini Furlan"
        ],
        [
         "217",
         "b3acd530-ffed-44eb-8af8-fdf129b2646b",
         "Agostini Orlesso",
         "grz:isFatherOf",
         "e4f47839-232e-4c0a-9e72-954e7732bde7",
         "Francesco Orlesso"
        ],
        [
         "218",
         "bae02109-8cc7-4c73-a8ce-74680f11b1c7",
         "Agostini (piater)",
         "grz:isFatherOf",
         "75534f77-6cc1-40ec-91aa-c104d7c1f470",
         "Bortolo de Agostini"
        ],
        [
         "222",
         "2a46b940-7b88-408b-beba-cdf7ab139074",
         "Agostino",
         "grz:isFatherOf",
         "c059d1c5-fbe8-48e1-b6d3-ff924e3cec54",
         "Francesco De Agostino"
        ],
        [
         "223",
         "02edcf60-e1c6-43f2-b66d-ed3bdf01ee8e",
         "Agostino 1",
         "grz:isFatherOf",
         "1b95f66e-fb35-430c-9671-97c9420c0fa7",
         "Giacomo di Agostino (spechier)"
        ],
        [
         "225",
         "524ed25e-b378-4710-9730-21d2ac340748",
         "Agostino 153-II186",
         "grz:isFatherOf",
         "0a61c9eb-43e2-4b92-bc7a-01771be5890c",
         "Bartolomeo di Agostino (barbier)"
        ],
        [
         "226",
         "4d4df485-f561-4b2d-a2c6-d9c9223abf9e",
         "Agostino 153-II214",
         "grz:isFatherOf",
         "a2e7e1fb-b00b-42f5-aec0-fbeb4cb65c36",
         "Giacomo di Agostino (sartor)"
        ],
        [
         "227",
         "9cda0bec-773d-4934-afa9-779845da2bd8",
         "Agostino 153-II323",
         "grz:isFatherOf",
         "a962bc47-1794-4b0b-81d5-d58032069026",
         "Antonio di Agostino"
        ],
        [
         "228",
         "8a416be5-dee3-4431-9aba-baa19f6e11d7",
         "Agostino 153-II342",
         "grz:isFatherOf",
         "52db4cf3-76b3-49a6-b2a5-a660f32754e8",
         "Vincenzo di Agostino"
        ],
        [
         "232",
         "46893949-4aff-45b6-8ce8-d49b0a4779f2",
         "Agostino 162066",
         "grz:isFatherOf",
         "4c66c806-8a74-4e11-a824-b9f90398f581",
         "Giovanni Maria 162066"
        ],
        [
         "233",
         "0e6f4040-10a7-48cc-be10-df4d95a3ae29",
         "Agostino 162252",
         "grz:isFatherOf",
         "daa8e457-b622-4353-b9f4-15e7b3df9343",
         "Feliciano 162252"
        ],
        [
         "234",
         "85d7937c-eda6-459d-849e-6ed704bcad5d",
         "Agostino 162258",
         "grz:isFatherOf",
         "6dd5cf58-a844-4a5c-8656-7883019998d6",
         "Feliciano 162258"
        ],
        [
         "242",
         "199c7165-c876-4454-b0a5-20a452241f1b",
         "Agostino Asedo",
         "grz:isFatherOf",
         "052e2f30-87a6-4dcd-9de1-654aaedbf1a1",
         "Angelo Asedo"
        ],
        [
         "249",
         "fe43be4d-c053-4e89-96cc-d823a095e757",
         "Agostino Barati",
         "grz:isFatherOf",
         "8bbc18a3-d3f3-4576-adb9-59d6391f9c90",
         "Nicolosa Barati"
        ],
        [
         "251",
         "4456b0be-e24e-41cc-903e-b632d79efd9d",
         "Agostino Baronci",
         "grz:isFatherOf",
         "3ee96e06-04d3-4bbe-8b21-ff8a8221990c",
         "Antonio Baronci"
        ],
        [
         "268",
         "16e10dbf-b447-4823-abb5-440af8a3c2a8",
         "Agostino Bortoluzzi",
         "grz:isFatherOf",
         "de74281c-7768-487e-ba6e-dddb66f42a6c",
         "Antonio Bortoluzzi"
        ],
        [
         "269",
         "acb9c7e9-010f-4ce3-a0e9-e6faa47baa84",
         "Agostino Braca",
         "grz:isFatherOf",
         "801cfce8-bb03-4bcb-9b2d-cd1daf051dd5",
         "Pietro Giovanni Braca"
        ],
        [
         "275",
         "e830c8da-c403-476d-8e6a-646b923db78d",
         "Agostino Bricon",
         "grz:isFatherOf",
         "daf1ff0d-2675-4d35-9b7c-c42f2880dbc2",
         "Antonio Bricon"
        ],
        [
         "286",
         "0c225b82-dfc5-42c5-9be5-acb31f4ffccb",
         "Agostino Caporello ",
         "grz:isFatherOf",
         "f1e8044d-6390-4418-8ad3-c942810e35f3",
         "Antea Caporello"
        ],
        [
         "294",
         "5baaabbf-497d-4536-9087-bdbd1960dae4",
         "Agostino Cegala",
         "grz:isFatherOf",
         "43c61e91-32c2-43c1-9a3a-c3a8c6d4a0d2",
         "Bartolomeo Cegala"
        ],
        [
         "308",
         "e5b989d1-bd63-43b7-b14e-1697eb33279f",
         "Agostino Cremonese",
         "grz:isFatherOf",
         "7562293a-e72b-4595-8384-09989d91747a",
         "Felice Cremonese"
        ],
        [
         "312",
         "34e7e5a9-e374-4a1d-bbbd-ed04a844b39e",
         "Agostino (da Conegliano)",
         "grz:isFatherOf",
         "506aa952-7d15-49ee-9652-89fc6c214b45",
         "Sebastiano di Agostino "
        ],
        [
         "315",
         "ed405e1a-02e8-4476-85fd-7ec8533669dd",
         "Agostino dalla Brace",
         "grz:isFatherOf",
         "71df6ba2-656c-4d56-903d-96765d0a3d92",
         "Carlo dalla Brace"
        ],
        [
         "318",
         "6f36260a-1bac-4a9a-9d73-7c75f96ee152",
         "Agostino (dalla Valtellina)",
         "grz:isFatherOf",
         "ff445dc7-1d6d-4f6d-a6b2-5c8a6f4ced21",
         "Stefano de Agostino"
        ],
        [
         "320",
         "0929ffb0-acc3-427a-8810-4dd80872be48",
         "Agostino (da Lonato)",
         "grz:isFatherOf",
         "d9fd5266-351d-4e75-aa5c-83aa380e4cd3",
         "Tommaso di Agostino 1"
        ],
        [
         "321",
         "cdd0f313-ced1-452b-ac63-ce28101ccbca",
         "Agostino (da Montagnana)",
         "grz:isFatherOf",
         "7a5befd5-17dc-4d3c-aaa7-a3fe2ff3dc9c",
         "Mario de Agostino"
        ],
        [
         "322",
         "5fc7ca47-733b-4f1a-b7a9-a165b8e387d5",
         "Agostino (da Padova)",
         "grz:isFatherOf",
         "2e1d7255-ca31-4493-b7aa-7cdb5e34edf8",
         "Domenico di Agostino"
        ],
        [
         "348",
         "bcf5fcb2-8e03-42d8-bb00-2601f30ff487",
         "Agostino del Collo dell'Oca",
         "grz:isFatherOf",
         "8aa88d56-675f-4b53-9963-a70aafe02177",
         "Antonio del Collo dell'Oca"
        ],
        [
         "371",
         "691c01ea-9b03-4a1f-8778-09cafa03556f",
         "Agostino di Antonio 168097",
         "grz:isFatherOf",
         "8a4bb925-083b-41d6-9f72-3ee399a423dd",
         "Antonio di Agostino 168097"
        ]
       ],
       "shape": {
        "columns": 5,
        "rows": 9417
       }
      },
      "text/html": [
       "<div>\n",
       "<style scoped>\n",
       "    .dataframe tbody tr th:only-of-type {\n",
       "        vertical-align: middle;\n",
       "    }\n",
       "\n",
       "    .dataframe tbody tr th {\n",
       "        vertical-align: top;\n",
       "    }\n",
       "\n",
       "    .dataframe thead th {\n",
       "        text-align: right;\n",
       "    }\n",
       "</style>\n",
       "<table border=\"1\" class=\"dataframe\">\n",
       "  <thead>\n",
       "    <tr style=\"text-align: right;\">\n",
       "      <th></th>\n",
       "      <th>Person 1 ID</th>\n",
       "      <th>Person 1 Name</th>\n",
       "      <th>Relationship Type</th>\n",
       "      <th>Person 2 ID</th>\n",
       "      <th>Person 2 Name</th>\n",
       "    </tr>\n",
       "  </thead>\n",
       "  <tbody>\n",
       "    <tr>\n",
       "      <th>1</th>\n",
       "      <td>d9838b83-e2c7-42c8-b036-6799d5ca734a</td>\n",
       "      <td>Abbondio D'Apiano</td>\n",
       "      <td>grz:isFatherOf</td>\n",
       "      <td>906b7b06-0ed8-4c9e-b525-88f48d5ca056</td>\n",
       "      <td>Francesco D'Apiano</td>\n",
       "    </tr>\n",
       "    <tr>\n",
       "      <th>3</th>\n",
       "      <td>8bf2a7c7-4797-439e-8ed5-6717a4eaf51d</td>\n",
       "      <td>Abbondio Gracio</td>\n",
       "      <td>grz:isFatherOf</td>\n",
       "      <td>8d55328a-e415-4d42-a9ca-e048a3c12970</td>\n",
       "      <td>Bernardo Gracio</td>\n",
       "    </tr>\n",
       "    <tr>\n",
       "      <th>13</th>\n",
       "      <td>ba63b706-3020-46d4-9bd7-8b813029b9b4</td>\n",
       "      <td>Abramo 162446</td>\n",
       "      <td>grz:isFatherOf</td>\n",
       "      <td>99b83179-b185-421a-a1fd-75a16cbc8528</td>\n",
       "      <td>Cristoforo 162446</td>\n",
       "    </tr>\n",
       "    <tr>\n",
       "      <th>21</th>\n",
       "      <td>32a926ed-ec94-4575-abbf-c56ec67a3ebb</td>\n",
       "      <td>Achille 153-II306</td>\n",
       "      <td>grz:isFatherOf</td>\n",
       "      <td>2773b53e-7472-4d8d-8436-f05b747e6b9f</td>\n",
       "      <td>Pomponio di Achille (marangon)</td>\n",
       "    </tr>\n",
       "    <tr>\n",
       "      <th>24</th>\n",
       "      <td>e01d299f-b702-46b9-bf67-74b6ba2ea873</td>\n",
       "      <td>Adamo 1</td>\n",
       "      <td>grz:isFatherOf</td>\n",
       "      <td>45026ded-8e12-4f36-9d81-984f6acdae49</td>\n",
       "      <td>Andrea di Adamo (tellariol)</td>\n",
       "    </tr>\n",
       "    <tr>\n",
       "      <th>...</th>\n",
       "      <td>...</td>\n",
       "      <td>...</td>\n",
       "      <td>...</td>\n",
       "      <td>...</td>\n",
       "      <td>...</td>\n",
       "    </tr>\n",
       "    <tr>\n",
       "      <th>79603</th>\n",
       "      <td>cd637d1a-18a7-41b1-8c33-fdb41ad21ee3</td>\n",
       "      <td>Zubiet?</td>\n",
       "      <td>grz:isFatherOf</td>\n",
       "      <td>76e0be63-31ef-4382-9565-ec06a8edfd06</td>\n",
       "      <td>Silvestro di Zubiet?</td>\n",
       "    </tr>\n",
       "    <tr>\n",
       "      <th>79604</th>\n",
       "      <td>f8fd0f70-5432-43fa-af39-82464360cf17</td>\n",
       "      <td>Zubit?</td>\n",
       "      <td>grz:isFatherOf</td>\n",
       "      <td>76e0be63-31ef-4382-9565-ec06a8edfd06</td>\n",
       "      <td>Silvestro di Zubiet?</td>\n",
       "    </tr>\n",
       "    <tr>\n",
       "      <th>79607</th>\n",
       "      <td>a0a5afcb-39ce-420d-8257-3a7f4b44e512</td>\n",
       "      <td>Zulian delli Rusi</td>\n",
       "      <td>grz:isFatherOf</td>\n",
       "      <td>b0553264-22f7-4089-a986-a951b86a9271</td>\n",
       "      <td>Gasparo delli Rusi</td>\n",
       "    </tr>\n",
       "    <tr>\n",
       "      <th>79611</th>\n",
       "      <td>24f4759f-7fe4-4c92-afbc-52e2bbac919f</td>\n",
       "      <td>Zulian Furlan</td>\n",
       "      <td>grz:isFatherOf</td>\n",
       "      <td>713fd39d-dc0e-4c93-8086-d58b66f939ff</td>\n",
       "      <td>Lorenzo Furlan (tiraoro)</td>\n",
       "    </tr>\n",
       "    <tr>\n",
       "      <th>79616</th>\n",
       "      <td>ac4b97c9-9521-45a7-96c2-dc25efdebb72</td>\n",
       "      <td>Zuliano Zuliani</td>\n",
       "      <td>grz:isFatherOf</td>\n",
       "      <td>5f1c6d05-37df-454b-8048-3fb66885f09b</td>\n",
       "      <td>Zuane Zuliani</td>\n",
       "    </tr>\n",
       "  </tbody>\n",
       "</table>\n",
       "<p>9417 rows × 5 columns</p>\n",
       "</div>"
      ],
      "text/plain": [
       "                                Person 1 ID      Person 1 Name  \\\n",
       "1      d9838b83-e2c7-42c8-b036-6799d5ca734a  Abbondio D'Apiano   \n",
       "3      8bf2a7c7-4797-439e-8ed5-6717a4eaf51d    Abbondio Gracio   \n",
       "13     ba63b706-3020-46d4-9bd7-8b813029b9b4      Abramo 162446   \n",
       "21     32a926ed-ec94-4575-abbf-c56ec67a3ebb  Achille 153-II306   \n",
       "24     e01d299f-b702-46b9-bf67-74b6ba2ea873            Adamo 1   \n",
       "...                                     ...                ...   \n",
       "79603  cd637d1a-18a7-41b1-8c33-fdb41ad21ee3            Zubiet?   \n",
       "79604  f8fd0f70-5432-43fa-af39-82464360cf17             Zubit?   \n",
       "79607  a0a5afcb-39ce-420d-8257-3a7f4b44e512  Zulian delli Rusi   \n",
       "79611  24f4759f-7fe4-4c92-afbc-52e2bbac919f      Zulian Furlan   \n",
       "79616  ac4b97c9-9521-45a7-96c2-dc25efdebb72    Zuliano Zuliani   \n",
       "\n",
       "      Relationship Type                           Person 2 ID  \\\n",
       "1        grz:isFatherOf  906b7b06-0ed8-4c9e-b525-88f48d5ca056   \n",
       "3        grz:isFatherOf  8d55328a-e415-4d42-a9ca-e048a3c12970   \n",
       "13       grz:isFatherOf  99b83179-b185-421a-a1fd-75a16cbc8528   \n",
       "21       grz:isFatherOf  2773b53e-7472-4d8d-8436-f05b747e6b9f   \n",
       "24       grz:isFatherOf  45026ded-8e12-4f36-9d81-984f6acdae49   \n",
       "...                 ...                                   ...   \n",
       "79603    grz:isFatherOf  76e0be63-31ef-4382-9565-ec06a8edfd06   \n",
       "79604    grz:isFatherOf  76e0be63-31ef-4382-9565-ec06a8edfd06   \n",
       "79607    grz:isFatherOf  b0553264-22f7-4089-a986-a951b86a9271   \n",
       "79611    grz:isFatherOf  713fd39d-dc0e-4c93-8086-d58b66f939ff   \n",
       "79616    grz:isFatherOf  5f1c6d05-37df-454b-8048-3fb66885f09b   \n",
       "\n",
       "                        Person 2 Name  \n",
       "1                  Francesco D'Apiano  \n",
       "3                     Bernardo Gracio  \n",
       "13                  Cristoforo 162446  \n",
       "21     Pomponio di Achille (marangon)  \n",
       "24        Andrea di Adamo (tellariol)  \n",
       "...                               ...  \n",
       "79603            Silvestro di Zubiet?  \n",
       "79604            Silvestro di Zubiet?  \n",
       "79607              Gasparo delli Rusi  \n",
       "79611        Lorenzo Furlan (tiraoro)  \n",
       "79616                   Zuane Zuliani  \n",
       "\n",
       "[9417 rows x 5 columns]"
      ]
     },
     "execution_count": 15,
     "metadata": {},
     "output_type": "execute_result"
    }
   ],
   "source": [
    "is_father_network = df_relationships[df_relationships['Relationship Type'] == 'grz:isFatherOf']\n",
    "is_father_network"
   ]
  },
  {
   "cell_type": "code",
   "execution_count": 25,
   "id": "f430254d",
   "metadata": {},
   "outputs": [
    {
     "data": {
      "application/vnd.microsoft.datawrangler.viewer.v0+json": {
       "columns": [
        {
         "name": "index",
         "rawType": "int64",
         "type": "integer"
        },
        {
         "name": "Person ID",
         "rawType": "object",
         "type": "unknown"
        },
        {
         "name": "Person Name",
         "rawType": "object",
         "type": "unknown"
        },
        {
         "name": "Contract ID",
         "rawType": "object",
         "type": "unknown"
        },
        {
         "name": "Tag",
         "rawType": "object",
         "type": "string"
        }
       ],
       "ref": "7d60bf1a-0abb-42b4-83f9-66fe51d81c7b",
       "rows": [
        [
         "0",
         "f1e0fa88-1ff5-4cc7-8fba-854d148f0306",
         "Paolo Di Bori",
         "f47a0743-e315-4606-bfab-8f603d5000f9",
         "grz:Apprentice"
        ],
        [
         "2",
         "bc3ecc02-652f-42d9-8bba-fc4561152b5a",
         "Nicolò Barazzuso",
         "d74fb5f0-ab73-4e2e-9762-3227294d6899",
         "grz:Master"
        ],
        [
         "4",
         "49f8b298-b445-4715-8feb-97b23ce2770d",
         "Giacomo Durin",
         "197bdfc9-c26a-417f-b0ba-657b81a16cac",
         "grz:Apprentice"
        ],
        [
         "5",
         "065fb6cf-0990-4acb-bf19-bf6b97471767",
         "Battista Crovato 179149",
         "63bb2629-2e05-4df6-a619-fcb42df842a0",
         "grz:Apprentice"
        ],
        [
         "6",
         "bc2fa44a-b7db-4aa7-b39f-c02ba5b43220",
         "Gaspare Homo",
         "d78a05f4-2a87-4cea-928d-460418f5e65b",
         "grz:Apprentice"
        ],
        [
         "8",
         "5aa193e5-3b10-4040-b9d8-52a1a1819591",
         "Zaccaria Casolato",
         "474955e3-e850-4d1c-b524-1f6ac42193e2",
         "grz:Apprentice"
        ],
        [
         "9",
         "b45dffde-0023-48ed-bf62-73f3e2038318",
         "Giovanni Maria Ferrari",
         "a6938350-4473-4f8b-b7ab-27f0a07e3783",
         "grz:Apprentice"
        ],
        [
         "10",
         "1fca4572-04bb-48f1-b7d9-ff54a33bb0bc",
         "Pontel di Zuane",
         "135a2571-8bc8-461f-a4c6-0cb4276a74d9",
         "grz:Apprentice"
        ],
        [
         "12",
         "93084d49-52ff-4d10-9d1c-6e804c15dced",
         "Giovanni Maria Orlandi",
         "c1d87c12-c540-4ddc-8b17-d309a76ac283",
         "grz:Apprentice"
        ],
        [
         "13",
         "758d8745-4e40-4744-97d6-67db0dd39bb4",
         "Pietro Gottoni 171090",
         "45e0225d-77b3-447b-8639-d6af07dcc8eb",
         "grz:Apprentice"
        ],
        [
         "15",
         "9d1c47cd-258e-44fb-afab-2c2cdd9fdcef",
         "Bertollo Varisco",
         "65bd27ef-d6a8-4437-87b2-e4e5cb300556",
         "grz:Apprentice"
        ],
        [
         "16",
         "4c286837-3812-4b5b-a9f0-243fdac56629",
         "Giovanni Maria Fagia",
         "5104949a-9f8b-4ada-8a1f-cfbeab2493f4",
         "grz:Apprentice"
        ],
        [
         "17",
         "0e752d6a-c511-4059-94d8-efe086c7b4a9",
         "Ancillo (frutariol)",
         "183f015d-a487-489a-b11c-9406609d77a4",
         "grz:Master"
        ],
        [
         "18",
         "8979734e-5ab5-478f-bd99-e9c0046bc4e3",
         "Tommaso Di Calegari",
         "5d4a4458-64fd-43f6-af87-45fe8d7d9401",
         "grz:Apprentice"
        ],
        [
         "19",
         "aea86eec-2881-41db-9983-d53d09596dd5",
         "Alberto di Lazzaro",
         "03e59163-5311-4fa0-992a-994e4c9cee70",
         "grz:Apprentice"
        ],
        [
         "22",
         "912a49da-4f44-4e50-bf00-dc34eedf1d54",
         "Giovanni Zenaro",
         "6af9ad7c-e5a9-402a-80fa-f9364c2b81cf",
         "grz:Apprentice"
        ],
        [
         "23",
         "c89a2941-5d6d-4f56-a617-518f31e2bea3",
         "Domenico di Antonio (sartor)",
         "ab217f68-1ec7-4017-b70e-3b5adcb03756",
         "grz:Master"
        ],
        [
         "24",
         "d2fa3d81-fde4-4933-bb1a-61be12082371",
         "Giovanni Migot",
         "10b26c00-a797-4b9e-888b-29b4b64ab358",
         "grz:Apprentice"
        ],
        [
         "25",
         "653adad8-9b90-4fbd-97ab-3e14686553b2",
         "Paolo Algarotti",
         "b3a7ee3f-d9f2-40c2-b12e-e2f6735972f5",
         "grz:Master"
        ],
        [
         "26",
         "cd9aa00a-682f-489e-a250-3f79414e3753",
         "Carlo Lucatello 177144",
         "ed24f729-d522-4efa-9011-abed13434da4",
         "grz:Apprentice"
        ],
        [
         "27",
         "318b5bdf-2b3a-43b4-8157-f57edeca4df0",
         "Gregorio 160285",
         "801ba373-a838-4280-817e-e321e2f7b7bd",
         "grz:Apprentice"
        ],
        [
         "28",
         "61d8d077-d58b-4c0d-b4d5-c969124560a7",
         "Pasqualino di Comin",
         "9585af73-4f01-4bfa-aa6f-b432ef299695",
         "grz:Apprentice"
        ],
        [
         "29",
         "bf4098fb-20a4-4b8a-a5f4-52e8abc76989",
         "Giuseppe Spin",
         "3b3e0754-b286-4885-8bd0-1f0654b078b1",
         "grz:Master"
        ],
        [
         "31",
         "a2708c16-7357-4fe4-858e-2d9e4bf1a888",
         "Antonio Peschiera (tagiapiera)",
         "49fb1026-b3c6-4fe4-8040-10e7c430ca96",
         "grz:Master"
        ],
        [
         "34",
         "86bc699f-0881-4031-ba17-e49a493c4670",
         "Andrea Novaglia",
         "aba5a7d7-383e-4bfb-9e9b-d80cfbbf4ec4",
         "grz:Apprentice"
        ],
        [
         "35",
         "f7df9d12-dbd8-49a4-84dd-8b8820d599e5",
         "Guglielmo Di Rimelin",
         "64cb6ed9-aaae-4be7-ad36-321b181e5187",
         "grz:Master"
        ],
        [
         "36",
         "6871e4da-c255-4c96-9323-735fb7bd5def",
         "Battista Berto 177341",
         "17b3199f-230f-4cd5-ad80-9b48b20f035d",
         "grz:Apprentice"
        ],
        [
         "38",
         "7a112db6-bd6b-4158-83c0-b37e1cd20d58",
         "Alvise Limonin 170326",
         "b903fbe7-27e7-4cc7-a1c3-e1a06518417e",
         "grz:Apprentice"
        ],
        [
         "39",
         "01235ca8-8bbb-4a19-abcc-03310d364ce0",
         "Giovanni Della Rocca 164301",
         "0cabfd0e-e51e-46f0-9c50-735869b7aed4",
         "grz:Apprentice"
        ],
        [
         "40",
         "56685b40-e8f3-48a2-8068-068210cf78c5",
         "Flaminio Scala",
         "37de4f2e-fb0c-4aa9-8240-ccf117a770ee",
         "grz:Master"
        ],
        [
         "42",
         "76021b47-9aff-4844-af0f-cc38e0d480ea",
         "Valentin quondam Colao",
         "81f25f9c-cb60-483b-ab1c-81c464e367a5",
         "grz:Apprentice"
        ],
        [
         "43",
         "70ed8e36-0fa6-4eaf-b4c9-e4d1e8161024",
         "Pietro Longhin",
         "1749d92c-d732-41a6-ba9b-5c0414b76399",
         "grz:Master"
        ],
        [
         "44",
         "b4426ca9-fcfe-47b6-8caf-ef91c0773f45",
         "Paolo Lagurzi",
         "e70355b6-fb3a-4c30-9d0f-92a9772ac223",
         "grz:Apprentice"
        ],
        [
         "45",
         "257c5d48-0987-481a-bb56-4e55769018c2",
         "Marco Panizaro",
         "c5798a9d-32d0-4fa7-a35f-8b4c0e90b13d",
         "grz:Master"
        ],
        [
         "46",
         "2bfe0f61-9440-4254-af1f-39225ec40d51",
         "Antonio Batestin",
         "067f6c07-e0ad-4481-b5cf-6acc1ae49ecc",
         "grz:Apprentice"
        ],
        [
         "48",
         "f340d38a-c60f-41da-8c32-349cb79ac5e9",
         "Donato di Girolamo (milanese)",
         "455be9fa-11b3-42f4-8533-30fabaefe8fc",
         "grz:Apprentice"
        ],
        [
         "49",
         "aa85bd86-545d-4931-a8c1-d39350413341",
         "Giacomo Bergantini",
         "e5114d0f-1e47-40f6-81f3-e99e30a5c10e",
         "grz:Master"
        ],
        [
         "51",
         "0ac7544b-ad4b-4720-be69-041ed0454c15",
         "Giuseppe Contardo",
         "85c21007-2ace-4371-b755-99f8307ef7fd",
         "grz:Master"
        ],
        [
         "53",
         "6c0cae8b-75e6-4c5a-b886-45e82b6235d7",
         "Alvise Brocheta",
         "05191ded-e68a-46d8-9db9-9b8f9859fbd6",
         "grz:Master"
        ],
        [
         "54",
         "d10bcd9e-7d9f-4585-9481-7556eebb1666",
         "Simone di Giovanni 154009",
         "5c3c9fe8-0e25-4671-8a24-f59915fa5158",
         "grz:Apprentice"
        ],
        [
         "57",
         "d159f4c5-a712-459b-ac3d-60c05cdb4b2a",
         "Sebastiano Bortoloti",
         "ac4ae585-1831-409f-b505-370498e64051",
         "grz:Apprentice"
        ],
        [
         "58",
         "c5fe3912-8915-4ea7-ada4-2937af2dfe78",
         "Pietro di Martino 166236",
         "4c48fbd1-aae3-42c8-a4e4-a75cfe2760c8",
         "grz:Apprentice"
        ],
        [
         "62",
         "635a124a-cdd4-41f7-a8b2-0f0cd03f9b56",
         "Giovanni Copis",
         "b971a2dd-8c58-423b-bf6e-cf2a5ab882c1",
         "grz:Master"
        ],
        [
         "63",
         "3f3efae7-0c94-4f84-ace5-f361ee8a4900",
         "Francesco Tirabosco 171269",
         "caffb150-0ae2-4ab9-a99c-dee18245a6bd",
         "grz:Apprentice"
        ],
        [
         "64",
         "ed429bea-8c11-456c-8f1d-561a314db1c7",
         "Antonio di Alessandro",
         "9f66ac54-4c3c-4c87-bbb1-d2fd0fedd3a1",
         "grz:Apprentice"
        ],
        [
         "66",
         "7b870d6f-0b47-400a-a5d1-ecbbe75c9fa7",
         "Giovanni Battista Barbolan",
         "08c9bbeb-8a74-4886-9a4c-47d0df6f86f3",
         "grz:Apprentice"
        ],
        [
         "67",
         "1d6c2611-9057-4532-95f0-de4cd248afa1",
         "Gaspare di Vincenzo (barbier)",
         "eec15cf2-e40d-4a22-ac4e-4121b76f0824",
         "grz:Master"
        ],
        [
         "68",
         "02c24917-4d80-4daa-8271-c7ffdf2b9fbe",
         "Michiel di Gasparo",
         "cdbd86de-3d4f-4b31-8ba6-59984e583ee3",
         "grz:Apprentice"
        ],
        [
         "70",
         "be228a1f-599d-4d1f-9de3-b61d15c3ddf9",
         "Francesco Masser",
         "556722a2-55c2-4e07-a392-1b0f133b0a42",
         "grz:Master"
        ],
        [
         "73",
         "2b250e1c-b56f-4c71-aef4-50ca77d2f46e",
         "Lorenzo Sinozzi",
         "50e1fab7-e10a-430a-b710-ed9f3639f146",
         "grz:Apprentice"
        ]
       ],
       "shape": {
        "columns": 4,
        "rows": 108865
       }
      },
      "text/html": [
       "<div>\n",
       "<style scoped>\n",
       "    .dataframe tbody tr th:only-of-type {\n",
       "        vertical-align: middle;\n",
       "    }\n",
       "\n",
       "    .dataframe tbody tr th {\n",
       "        vertical-align: top;\n",
       "    }\n",
       "\n",
       "    .dataframe thead th {\n",
       "        text-align: right;\n",
       "    }\n",
       "</style>\n",
       "<table border=\"1\" class=\"dataframe\">\n",
       "  <thead>\n",
       "    <tr style=\"text-align: right;\">\n",
       "      <th></th>\n",
       "      <th>Person ID</th>\n",
       "      <th>Person Name</th>\n",
       "      <th>Contract ID</th>\n",
       "      <th>Tag</th>\n",
       "    </tr>\n",
       "  </thead>\n",
       "  <tbody>\n",
       "    <tr>\n",
       "      <th>0</th>\n",
       "      <td>f1e0fa88-1ff5-4cc7-8fba-854d148f0306</td>\n",
       "      <td>Paolo Di Bori</td>\n",
       "      <td>f47a0743-e315-4606-bfab-8f603d5000f9</td>\n",
       "      <td>grz:Apprentice</td>\n",
       "    </tr>\n",
       "    <tr>\n",
       "      <th>2</th>\n",
       "      <td>bc3ecc02-652f-42d9-8bba-fc4561152b5a</td>\n",
       "      <td>Nicolò Barazzuso</td>\n",
       "      <td>d74fb5f0-ab73-4e2e-9762-3227294d6899</td>\n",
       "      <td>grz:Master</td>\n",
       "    </tr>\n",
       "    <tr>\n",
       "      <th>4</th>\n",
       "      <td>49f8b298-b445-4715-8feb-97b23ce2770d</td>\n",
       "      <td>Giacomo Durin</td>\n",
       "      <td>197bdfc9-c26a-417f-b0ba-657b81a16cac</td>\n",
       "      <td>grz:Apprentice</td>\n",
       "    </tr>\n",
       "    <tr>\n",
       "      <th>5</th>\n",
       "      <td>065fb6cf-0990-4acb-bf19-bf6b97471767</td>\n",
       "      <td>Battista Crovato 179149</td>\n",
       "      <td>63bb2629-2e05-4df6-a619-fcb42df842a0</td>\n",
       "      <td>grz:Apprentice</td>\n",
       "    </tr>\n",
       "    <tr>\n",
       "      <th>6</th>\n",
       "      <td>bc2fa44a-b7db-4aa7-b39f-c02ba5b43220</td>\n",
       "      <td>Gaspare Homo</td>\n",
       "      <td>d78a05f4-2a87-4cea-928d-460418f5e65b</td>\n",
       "      <td>grz:Apprentice</td>\n",
       "    </tr>\n",
       "    <tr>\n",
       "      <th>...</th>\n",
       "      <td>...</td>\n",
       "      <td>...</td>\n",
       "      <td>...</td>\n",
       "      <td>...</td>\n",
       "    </tr>\n",
       "    <tr>\n",
       "      <th>156140</th>\n",
       "      <td>ac44d888-933b-412d-9d1e-22c8b87110cb</td>\n",
       "      <td>Agostino de Francesco</td>\n",
       "      <td>1fe25c35-f56d-4f13-afe2-1cf3f05226fc</td>\n",
       "      <td>grz:Master</td>\n",
       "    </tr>\n",
       "    <tr>\n",
       "      <th>156141</th>\n",
       "      <td>f6a5ae1a-c5ba-4d3d-b7d3-b3a59f61d48a</td>\n",
       "      <td>Giovanni Antonio Marchese</td>\n",
       "      <td>263a1e09-f4c0-4214-8b09-d252256f26bb</td>\n",
       "      <td>grz:Apprentice</td>\n",
       "    </tr>\n",
       "    <tr>\n",
       "      <th>156142</th>\n",
       "      <td>2d16203d-1180-4513-96d7-f76b2f4cec3b</td>\n",
       "      <td>Giovanni Battista Panciera (sartor)</td>\n",
       "      <td>870c156d-dea4-4b64-b44e-9c54867a5c4d</td>\n",
       "      <td>grz:Apprentice</td>\n",
       "    </tr>\n",
       "    <tr>\n",
       "      <th>156145</th>\n",
       "      <td>23b1a1f8-1602-470b-b98d-1ccf67e8ce88</td>\n",
       "      <td>Giuseppe Marzini</td>\n",
       "      <td>a88b5738-27ea-41a9-87cb-0c9026eb040b</td>\n",
       "      <td>grz:Apprentice</td>\n",
       "    </tr>\n",
       "    <tr>\n",
       "      <th>156146</th>\n",
       "      <td>79945a24-f605-4790-9064-b60116ac6fa7</td>\n",
       "      <td>Leonardo Bello</td>\n",
       "      <td>eb7354e4-a728-476c-bd8c-b36b5b225806</td>\n",
       "      <td>grz:Apprentice</td>\n",
       "    </tr>\n",
       "  </tbody>\n",
       "</table>\n",
       "<p>108865 rows × 4 columns</p>\n",
       "</div>"
      ],
      "text/plain": [
       "                                   Person ID  \\\n",
       "0       f1e0fa88-1ff5-4cc7-8fba-854d148f0306   \n",
       "2       bc3ecc02-652f-42d9-8bba-fc4561152b5a   \n",
       "4       49f8b298-b445-4715-8feb-97b23ce2770d   \n",
       "5       065fb6cf-0990-4acb-bf19-bf6b97471767   \n",
       "6       bc2fa44a-b7db-4aa7-b39f-c02ba5b43220   \n",
       "...                                      ...   \n",
       "156140  ac44d888-933b-412d-9d1e-22c8b87110cb   \n",
       "156141  f6a5ae1a-c5ba-4d3d-b7d3-b3a59f61d48a   \n",
       "156142  2d16203d-1180-4513-96d7-f76b2f4cec3b   \n",
       "156145  23b1a1f8-1602-470b-b98d-1ccf67e8ce88   \n",
       "156146  79945a24-f605-4790-9064-b60116ac6fa7   \n",
       "\n",
       "                                Person Name  \\\n",
       "0                             Paolo Di Bori   \n",
       "2                          Nicolò Barazzuso   \n",
       "4                             Giacomo Durin   \n",
       "5                   Battista Crovato 179149   \n",
       "6                              Gaspare Homo   \n",
       "...                                     ...   \n",
       "156140                Agostino de Francesco   \n",
       "156141            Giovanni Antonio Marchese   \n",
       "156142  Giovanni Battista Panciera (sartor)   \n",
       "156145                     Giuseppe Marzini   \n",
       "156146                       Leonardo Bello   \n",
       "\n",
       "                                 Contract ID             Tag  \n",
       "0       f47a0743-e315-4606-bfab-8f603d5000f9  grz:Apprentice  \n",
       "2       d74fb5f0-ab73-4e2e-9762-3227294d6899      grz:Master  \n",
       "4       197bdfc9-c26a-417f-b0ba-657b81a16cac  grz:Apprentice  \n",
       "5       63bb2629-2e05-4df6-a619-fcb42df842a0  grz:Apprentice  \n",
       "6       d78a05f4-2a87-4cea-928d-460418f5e65b  grz:Apprentice  \n",
       "...                                      ...             ...  \n",
       "156140  1fe25c35-f56d-4f13-afe2-1cf3f05226fc      grz:Master  \n",
       "156141  263a1e09-f4c0-4214-8b09-d252256f26bb  grz:Apprentice  \n",
       "156142  870c156d-dea4-4b64-b44e-9c54867a5c4d  grz:Apprentice  \n",
       "156145  a88b5738-27ea-41a9-87cb-0c9026eb040b  grz:Apprentice  \n",
       "156146  eb7354e4-a728-476c-bd8c-b36b5b225806  grz:Apprentice  \n",
       "\n",
       "[108865 rows x 4 columns]"
      ]
     },
     "execution_count": 25,
     "metadata": {},
     "output_type": "execute_result"
    }
   ],
   "source": [
    "df_masters_apprantices = df_person_mentions[df_person_mentions['Tag'].isin(['grz:Master', 'grz:Apprentice'])][colum_select]\n",
    "df_masters_apprantices"
   ]
  },
  {
   "cell_type": "code",
   "execution_count": 30,
   "id": "00bb0979",
   "metadata": {},
   "outputs": [],
   "source": [
    "colum_select = ['Person ID', 'Person Name', 'Contract ID', 'Tag']\n",
    "df_masters = df_person_mentions[df_person_mentions['Tag'].isin(['grz:Master'])][colum_select]\n",
    "df_apprantices = df_person_mentions[df_person_mentions['Tag'].isin(['grz:Apprentice'])][colum_select]\n",
    "\n",
    "df_master_apprentice = pd.merge(\n",
    "    df_masters,\n",
    "    df_apprantices,\n",
    "    on='Contract ID',\n",
    "    suffixes=('_master', '_apprentice')\n",
    ")\n",
    "df_master_apprentice\n",
    "\n",
    "G_apprentiships = nx.from_pandas_edgelist(df_master_apprentice, source='Person ID_master', target='Person ID_apprentice', edge_attr='Contract ID', create_using=nx.Graph())"
   ]
  },
  {
   "cell_type": "code",
   "execution_count": 38,
   "id": "9414467f",
   "metadata": {},
   "outputs": [
    {
     "name": "stdout",
     "output_type": "stream",
     "text": [
      "Number of nodes: 94031\n",
      "Number of edges: 54630\n",
      "Connected components: 39495\n",
      "Average degree: 1.16\n",
      "Max degree: 39\n",
      "Min degree: 1\n"
     ]
    }
   ],
   "source": [
    "num_components = nx.number_connected_components(G_apprentiships)\n",
    "\n",
    "degrees = [d for _, d in G_apprentiships.degree()]\n",
    "\n",
    "print(f\"Number of nodes: {G_apprentiships.number_of_nodes()}\")\n",
    "print(f\"Number of edges: {G_apprentiships.number_of_edges()}\")\n",
    "print(f\"Connected components: {num_components}\")\n",
    "\n",
    "print(f\"Average degree: {sum(degrees)/len(degrees):.2f}\")\n",
    "print(f\"Max degree: {max(degrees)}\")\n",
    "print(f\"Min degree: {min(degrees)}\")"
   ]
  },
  {
   "cell_type": "code",
   "execution_count": 87,
   "id": "545a99cf",
   "metadata": {},
   "outputs": [
    {
     "data": {
      "text/plain": [
       "9596"
      ]
     },
     "execution_count": 87,
     "metadata": {},
     "output_type": "execute_result"
    }
   ],
   "source": [
    "degrees_no_ones = [d for d in degrees if d != 1]\n",
    "len(degrees_no_ones)"
   ]
  },
  {
   "cell_type": "code",
   "execution_count": 88,
   "id": "f35e4eed",
   "metadata": {},
   "outputs": [
    {
     "data": {
      "image/png": "[encoded data removed]",
      "text/plain": [
       "<Figure size 800x500 with 1 Axes>"
      ]
     },
     "metadata": {},
     "output_type": "display_data"
    }
   ],
   "source": [
    "import matplotlib.pyplot as plt\n",
    "\n",
    "plt.figure(figsize=(8, 5))\n",
    "plt.hist(degrees_no_ones, bins=range(1, max(degrees_no_ones)+2), edgecolor='black', align='left')\n",
    "plt.xlabel('Degree')\n",
    "plt.ylabel('Count')\n",
    "plt.title('Histogram of Node Degrees in Apprenticeship Network')\n",
    "plt.xticks(range(1, max(degrees_no_ones)+1))\n",
    "plt.show()"
   ]
  },
  {
   "cell_type": "code",
   "execution_count": 85,
   "id": "df4640df",
   "metadata": {},
   "outputs": [
    {
     "name": "stdout",
     "output_type": "stream",
     "text": [
      "4757\n",
      "54216\n"
     ]
    }
   ],
   "source": [
    "df_contracts_1722_1772 = df_contracts[\n",
    "    (df_contracts['Date'] >= '1722-01-01') & (df_contracts['Date'] <= '1772-12-31')\n",
    "]\n",
    "print(len(df_contracts_1722_1772))\n",
    "print(len(df_contracts))\n"
   ]
  },
  {
   "cell_type": "code",
   "execution_count": null,
   "id": "e793da82",
   "metadata": {},
   "outputs": [],
   "source": []
  }
 ],
 "metadata": {
  "kernelspec": {
   "display_name": "Python (ada)",
   "language": "python",
   "name": "ada"
  },
  "language_info": {
   "codemirror_mode": {
    "name": "ipython",
    "version": 3
   },
   "file_extension": ".py",
   "mimetype": "text/x-python",
   "name": "python",
   "nbconvert_exporter": "python",
   "pygments_lexer": "ipython3",
   "version": "3.12.9"
  }
 },
 "nbformat": 4,
 "nbformat_minor": 5
}
