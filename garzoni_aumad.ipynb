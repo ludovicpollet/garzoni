{
 "cells": [
  {
   "cell_type": "code",
   "execution_count": 1,
   "id": "43c34604",
   "metadata": {},
   "outputs": [],
   "source": [
    "import json\n",
    "\n",
    "import matplotlib.pyplot as plt\n",
    "import numpy as np\n",
    "import pandas as pd\n",
    "import seaborn as sns\n",
    "from tqdm.notebook import tqdm"
   ]
  },
  {
   "cell_type": "code",
   "execution_count": 2,
   "id": "c6461e74",
   "metadata": {},
   "outputs": [],
   "source": [
    "df_relationships = pd.read_excel('data/person_relationships.xlsx')\n",
    "df_contracts = pd.read_excel('data/contracts.xlsx')\n",
    "df_person_mentions = pd.read_excel('data/person_mentions.xlsx')"
   ]
  },
  {
   "cell_type": "code",
   "execution_count": null,
   "id": "3455b637",
   "metadata": {},
   "outputs": [
    {
     "name": "stdout",
     "output_type": "stream",
     "text": [
      "20846\n",
      "238872\n"
     ]
    }
   ],
   "source": [
    "all_person_ids = df_relationships['Person 1 ID'].tolist() + df_relationships['Person 2 ID'].tolist() + df_relationships['Person 1 Name'].tolist() \n",
    "print(len(all_person_ids)- len(set(all_person_ids)))\n",
    "print(len(all_person_ids))\n",
    "\n",
    "\n",
    "\n"
   ]
  },
  {
   "cell_type": "code",
   "execution_count": 15,
   "id": "46d9aa15",
   "metadata": {},
   "outputs": [
    {
     "data": {
      "application/vnd.microsoft.datawrangler.viewer.v0+json": {
       "columns": [
        {
         "name": "index",
         "rawType": "int64",
         "type": "integer"
        },
        {
         "name": "Person 1 ID",
         "rawType": "object",
         "type": "string"
        },
        {
         "name": "Person 1 Name",
         "rawType": "object",
         "type": "string"
        },
        {
         "name": "Relationship Type",
         "rawType": "object",
         "type": "string"
        },
        {
         "name": "Person 2 ID",
         "rawType": "object",
         "type": "string"
        },
        {
         "name": "Person 2 Name",
         "rawType": "object",
         "type": "string"
        }
       ],
       "ref": "26eec63a-0d42-4974-a448-c440e07532cf",
       "rows": [
        [
         "1",
         "d9838b83-e2c7-42c8-b036-6799d5ca734a",
         "Abbondio D'Apiano",
         "grz:isFatherOf",
         "906b7b06-0ed8-4c9e-b525-88f48d5ca056",
         "Francesco D'Apiano"
        ],
        [
         "3",
         "8bf2a7c7-4797-439e-8ed5-6717a4eaf51d",
         "Abbondio Gracio",
         "grz:isFatherOf",
         "8d55328a-e415-4d42-a9ca-e048a3c12970",
         "Bernardo Gracio"
        ],
        [
         "13",
         "ba63b706-3020-46d4-9bd7-8b813029b9b4",
         "Abramo 162446",
         "grz:isFatherOf",
         "99b83179-b185-421a-a1fd-75a16cbc8528",
         "Cristoforo 162446"
        ],
        [
         "21",
         "32a926ed-ec94-4575-abbf-c56ec67a3ebb",
         "Achille 153-II306",
         "grz:isFatherOf",
         "2773b53e-7472-4d8d-8436-f05b747e6b9f",
         "Pomponio di Achille (marangon)"
        ],
        [
         "24",
         "e01d299f-b702-46b9-bf67-74b6ba2ea873",
         "Adamo 1",
         "grz:isFatherOf",
         "45026ded-8e12-4f36-9d81-984f6acdae49",
         "Andrea di Adamo (tellariol)"
        ],
        [
         "25",
         "f45ac596-6f00-4013-9c5a-b3cd4574c6e0",
         "Adamo 153-II27",
         "grz:isFatherOf",
         "715f0b56-c435-4872-bac0-5f2608636fb7",
         "Cristina di Adamo"
        ],
        [
         "26",
         "37405420-d655-47a8-8477-1e57cea23de0",
         "Adamo 153-II73",
         "grz:isFatherOf",
         "948ff6e0-c26f-4f55-a5c3-3e89dac87399",
         "Marco di Adamo (burchier)"
        ],
        [
         "27",
         "33fbaad4-2218-4453-9ff6-2d92e16dc30b",
         "Adamo 162126",
         "grz:isFatherOf",
         "f55ff7ec-0a43-412e-8298-4a508844cd36",
         "Giovanni 162126"
        ],
        [
         "28",
         "bc29a19e-dcf7-4202-b35a-342166ee40f9",
         "Adamo 2",
         "grz:isFatherOf",
         "eabee93e-c744-4719-bafc-b31c142b51ee",
         "Geronimo de Adamo"
        ],
        [
         "56",
         "422c2e60-e90f-4b07-a57b-0e4940223f8d",
         "Adamo Galasso",
         "grz:isFatherOf",
         "115f4749-5a81-4daf-95d9-421b23e25755",
         "Giacoma Galasso"
        ],
        [
         "58",
         "c6218a9c-4d78-414a-b25b-98c3f9ce9aec",
         "Adamo Gentilati",
         "grz:isFatherOf",
         "738a114b-1cc4-4ab1-b9f5-58006a3bc6f0",
         "Domenico Gentilati"
        ],
        [
         "59",
         "cd95086d-f0e4-4d22-bef6-d31c11fd6c17",
         "Adamo Gentilatti",
         "grz:isFatherOf",
         "454514b8-f7fe-4cb3-915b-99dab541d307",
         "Giuseppe Gentilatti"
        ],
        [
         "61",
         "27a88481-d9fe-4111-b807-f1392c25b9f2",
         "Adamo Levico",
         "grz:isFatherOf",
         "2ee5803a-b903-4a1f-ae96-de5584e9d1f0",
         "Antonio Levico"
        ],
        [
         "68",
         "32edef3e-ab8f-4787-86f3-8e9c64cecee9",
         "Adamo Pani",
         "grz:isFatherOf",
         "efecb3c1-75a4-49ea-aa99-1950b0484c17",
         "Zuane Pani"
        ],
        [
         "76",
         "382115cd-9827-4c71-94d0-168f78a62793",
         "Adamo Zentilatta",
         "grz:isFatherOf",
         "5162e532-28ee-4450-8e0a-e8ecb741e27d",
         "Isepo Zentilatta"
        ],
        [
         "131",
         "5015c520-a2c9-46d5-b528-4813b4eda40f",
         "Agado De Agadi",
         "grz:isFatherOf",
         "c77cf2e3-375f-4e9d-8b04-c29f2045038a",
         "Antonio De Agadi"
        ],
        [
         "171",
         "ff7d2bc0-9fe6-4e2b-a3ed-a5e4456684f9",
         "Agnolo De Valle",
         "grz:isFatherOf",
         "1e39d150-171e-4088-8dbf-7ae69150ff9a",
         "Vincenzo De Valle"
        ],
        [
         "179",
         "f3d7b4a1-7848-480a-877f-0cd49983b535",
         "Agnolo Fachin",
         "grz:isFatherOf",
         "dd469c68-c0b7-4f8b-9cf3-e6bf42113df8",
         "Piero Fachin"
        ],
        [
         "182",
         "18dc4d0b-7cff-4788-a0bd-a59713167bed",
         "Agnolo Meneghini",
         "grz:isFatherOf",
         "ef085bd3-b17e-42ca-b2f0-10c2e77e5649",
         "Giacomo Meneghini"
        ],
        [
         "192",
         "3ded01dc-e990-477d-ab84-3ff15bf4e9e7",
         "Agnolo Scarabelli",
         "grz:isFatherOf",
         "066b2cc7-31c9-4d51-9a37-32def0d1d1a0",
         "Bonifacio Scarabelli"
        ],
        [
         "209",
         "fd30c68d-8d20-49c1-86b4-1cad6da1d32e",
         "Agostin Ganassa",
         "grz:isFatherOf",
         "e423c4be-e44e-4fbc-8e4c-75a13a8ae0fe",
         "Lorenzo Ganassa"
        ],
        [
         "215",
         "6a9140f7-c4c6-4e3e-9550-4920041bb69d",
         "Agostini Furlan",
         "grz:isFatherOf",
         "d5f50527-46b9-4816-8211-db48230e6c2f",
         "Martini Furlan"
        ],
        [
         "217",
         "b3acd530-ffed-44eb-8af8-fdf129b2646b",
         "Agostini Orlesso",
         "grz:isFatherOf",
         "e4f47839-232e-4c0a-9e72-954e7732bde7",
         "Francesco Orlesso"
        ],
        [
         "218",
         "bae02109-8cc7-4c73-a8ce-74680f11b1c7",
         "Agostini (piater)",
         "grz:isFatherOf",
         "75534f77-6cc1-40ec-91aa-c104d7c1f470",
         "Bortolo de Agostini"
        ],
        [
         "222",
         "2a46b940-7b88-408b-beba-cdf7ab139074",
         "Agostino",
         "grz:isFatherOf",
         "c059d1c5-fbe8-48e1-b6d3-ff924e3cec54",
         "Francesco De Agostino"
        ],
        [
         "223",
         "02edcf60-e1c6-43f2-b66d-ed3bdf01ee8e",
         "Agostino 1",
         "grz:isFatherOf",
         "1b95f66e-fb35-430c-9671-97c9420c0fa7",
         "Giacomo di Agostino (spechier)"
        ],
        [
         "225",
         "524ed25e-b378-4710-9730-21d2ac340748",
         "Agostino 153-II186",
         "grz:isFatherOf",
         "0a61c9eb-43e2-4b92-bc7a-01771be5890c",
         "Bartolomeo di Agostino (barbier)"
        ],
        [
         "226",
         "4d4df485-f561-4b2d-a2c6-d9c9223abf9e",
         "Agostino 153-II214",
         "grz:isFatherOf",
         "a2e7e1fb-b00b-42f5-aec0-fbeb4cb65c36",
         "Giacomo di Agostino (sartor)"
        ],
        [
         "227",
         "9cda0bec-773d-4934-afa9-779845da2bd8",
         "Agostino 153-II323",
         "grz:isFatherOf",
         "a962bc47-1794-4b0b-81d5-d58032069026",
         "Antonio di Agostino"
        ],
        [
         "228",
         "8a416be5-dee3-4431-9aba-baa19f6e11d7",
         "Agostino 153-II342",
         "grz:isFatherOf",
         "52db4cf3-76b3-49a6-b2a5-a660f32754e8",
         "Vincenzo di Agostino"
        ],
        [
         "232",
         "46893949-4aff-45b6-8ce8-d49b0a4779f2",
         "Agostino 162066",
         "grz:isFatherOf",
         "4c66c806-8a74-4e11-a824-b9f90398f581",
         "Giovanni Maria 162066"
        ],
        [
         "233",
         "0e6f4040-10a7-48cc-be10-df4d95a3ae29",
         "Agostino 162252",
         "grz:isFatherOf",
         "daa8e457-b622-4353-b9f4-15e7b3df9343",
         "Feliciano 162252"
        ],
        [
         "234",
         "85d7937c-eda6-459d-849e-6ed704bcad5d",
         "Agostino 162258",
         "grz:isFatherOf",
         "6dd5cf58-a844-4a5c-8656-7883019998d6",
         "Feliciano 162258"
        ],
        [
         "242",
         "199c7165-c876-4454-b0a5-20a452241f1b",
         "Agostino Asedo",
         "grz:isFatherOf",
         "052e2f30-87a6-4dcd-9de1-654aaedbf1a1",
         "Angelo Asedo"
        ],
        [
         "249",
         "fe43be4d-c053-4e89-96cc-d823a095e757",
         "Agostino Barati",
         "grz:isFatherOf",
         "8bbc18a3-d3f3-4576-adb9-59d6391f9c90",
         "Nicolosa Barati"
        ],
        [
         "251",
         "4456b0be-e24e-41cc-903e-b632d79efd9d",
         "Agostino Baronci",
         "grz:isFatherOf",
         "3ee96e06-04d3-4bbe-8b21-ff8a8221990c",
         "Antonio Baronci"
        ],
        [
         "268",
         "16e10dbf-b447-4823-abb5-440af8a3c2a8",
         "Agostino Bortoluzzi",
         "grz:isFatherOf",
         "de74281c-7768-487e-ba6e-dddb66f42a6c",
         "Antonio Bortoluzzi"
        ],
        [
         "269",
         "acb9c7e9-010f-4ce3-a0e9-e6faa47baa84",
         "Agostino Braca",
         "grz:isFatherOf",
         "801cfce8-bb03-4bcb-9b2d-cd1daf051dd5",
         "Pietro Giovanni Braca"
        ],
        [
         "275",
         "e830c8da-c403-476d-8e6a-646b923db78d",
         "Agostino Bricon",
         "grz:isFatherOf",
         "daf1ff0d-2675-4d35-9b7c-c42f2880dbc2",
         "Antonio Bricon"
        ],
        [
         "286",
         "0c225b82-dfc5-42c5-9be5-acb31f4ffccb",
         "Agostino Caporello ",
         "grz:isFatherOf",
         "f1e8044d-6390-4418-8ad3-c942810e35f3",
         "Antea Caporello"
        ],
        [
         "294",
         "5baaabbf-497d-4536-9087-bdbd1960dae4",
         "Agostino Cegala",
         "grz:isFatherOf",
         "43c61e91-32c2-43c1-9a3a-c3a8c6d4a0d2",
         "Bartolomeo Cegala"
        ],
        [
         "308",
         "e5b989d1-bd63-43b7-b14e-1697eb33279f",
         "Agostino Cremonese",
         "grz:isFatherOf",
         "7562293a-e72b-4595-8384-09989d91747a",
         "Felice Cremonese"
        ],
        [
         "312",
         "34e7e5a9-e374-4a1d-bbbd-ed04a844b39e",
         "Agostino (da Conegliano)",
         "grz:isFatherOf",
         "506aa952-7d15-49ee-9652-89fc6c214b45",
         "Sebastiano di Agostino "
        ],
        [
         "315",
         "ed405e1a-02e8-4476-85fd-7ec8533669dd",
         "Agostino dalla Brace",
         "grz:isFatherOf",
         "71df6ba2-656c-4d56-903d-96765d0a3d92",
         "Carlo dalla Brace"
        ],
        [
         "318",
         "6f36260a-1bac-4a9a-9d73-7c75f96ee152",
         "Agostino (dalla Valtellina)",
         "grz:isFatherOf",
         "ff445dc7-1d6d-4f6d-a6b2-5c8a6f4ced21",
         "Stefano de Agostino"
        ],
        [
         "320",
         "0929ffb0-acc3-427a-8810-4dd80872be48",
         "Agostino (da Lonato)",
         "grz:isFatherOf",
         "d9fd5266-351d-4e75-aa5c-83aa380e4cd3",
         "Tommaso di Agostino 1"
        ],
        [
         "321",
         "cdd0f313-ced1-452b-ac63-ce28101ccbca",
         "Agostino (da Montagnana)",
         "grz:isFatherOf",
         "7a5befd5-17dc-4d3c-aaa7-a3fe2ff3dc9c",
         "Mario de Agostino"
        ],
        [
         "322",
         "5fc7ca47-733b-4f1a-b7a9-a165b8e387d5",
         "Agostino (da Padova)",
         "grz:isFatherOf",
         "2e1d7255-ca31-4493-b7aa-7cdb5e34edf8",
         "Domenico di Agostino"
        ],
        [
         "348",
         "bcf5fcb2-8e03-42d8-bb00-2601f30ff487",
         "Agostino del Collo dell'Oca",
         "grz:isFatherOf",
         "8aa88d56-675f-4b53-9963-a70aafe02177",
         "Antonio del Collo dell'Oca"
        ],
        [
         "371",
         "691c01ea-9b03-4a1f-8778-09cafa03556f",
         "Agostino di Antonio 168097",
         "grz:isFatherOf",
         "8a4bb925-083b-41d6-9f72-3ee399a423dd",
         "Antonio di Agostino 168097"
        ]
       ],
       "shape": {
        "columns": 5,
        "rows": 9417
       }
      },
      "text/html": [
       "<div>\n",
       "<style scoped>\n",
       "    .dataframe tbody tr th:only-of-type {\n",
       "        vertical-align: middle;\n",
       "    }\n",
       "\n",
       "    .dataframe tbody tr th {\n",
       "        vertical-align: top;\n",
       "    }\n",
       "\n",
       "    .dataframe thead th {\n",
       "        text-align: right;\n",
       "    }\n",
       "</style>\n",
       "<table border=\"1\" class=\"dataframe\">\n",
       "  <thead>\n",
       "    <tr style=\"text-align: right;\">\n",
       "      <th></th>\n",
       "      <th>Person 1 ID</th>\n",
       "      <th>Person 1 Name</th>\n",
       "      <th>Relationship Type</th>\n",
       "      <th>Person 2 ID</th>\n",
       "      <th>Person 2 Name</th>\n",
       "    </tr>\n",
       "  </thead>\n",
       "  <tbody>\n",
       "    <tr>\n",
       "      <th>1</th>\n",
       "      <td>d9838b83-e2c7-42c8-b036-6799d5ca734a</td>\n",
       "      <td>Abbondio D'Apiano</td>\n",
       "      <td>grz:isFatherOf</td>\n",
       "      <td>906b7b06-0ed8-4c9e-b525-88f48d5ca056</td>\n",
       "      <td>Francesco D'Apiano</td>\n",
       "    </tr>\n",
       "    <tr>\n",
       "      <th>3</th>\n",
       "      <td>8bf2a7c7-4797-439e-8ed5-6717a4eaf51d</td>\n",
       "      <td>Abbondio Gracio</td>\n",
       "      <td>grz:isFatherOf</td>\n",
       "      <td>8d55328a-e415-4d42-a9ca-e048a3c12970</td>\n",
       "      <td>Bernardo Gracio</td>\n",
       "    </tr>\n",
       "    <tr>\n",
       "      <th>13</th>\n",
       "      <td>ba63b706-3020-46d4-9bd7-8b813029b9b4</td>\n",
       "      <td>Abramo 162446</td>\n",
       "      <td>grz:isFatherOf</td>\n",
       "      <td>99b83179-b185-421a-a1fd-75a16cbc8528</td>\n",
       "      <td>Cristoforo 162446</td>\n",
       "    </tr>\n",
       "    <tr>\n",
       "      <th>21</th>\n",
       "      <td>32a926ed-ec94-4575-abbf-c56ec67a3ebb</td>\n",
       "      <td>Achille 153-II306</td>\n",
       "      <td>grz:isFatherOf</td>\n",
       "      <td>2773b53e-7472-4d8d-8436-f05b747e6b9f</td>\n",
       "      <td>Pomponio di Achille (marangon)</td>\n",
       "    </tr>\n",
       "    <tr>\n",
       "      <th>24</th>\n",
       "      <td>e01d299f-b702-46b9-bf67-74b6ba2ea873</td>\n",
       "      <td>Adamo 1</td>\n",
       "      <td>grz:isFatherOf</td>\n",
       "      <td>45026ded-8e12-4f36-9d81-984f6acdae49</td>\n",
       "      <td>Andrea di Adamo (tellariol)</td>\n",
       "    </tr>\n",
       "    <tr>\n",
       "      <th>...</th>\n",
       "      <td>...</td>\n",
       "      <td>...</td>\n",
       "      <td>...</td>\n",
       "      <td>...</td>\n",
       "      <td>...</td>\n",
       "    </tr>\n",
       "    <tr>\n",
       "      <th>79603</th>\n",
       "      <td>cd637d1a-18a7-41b1-8c33-fdb41ad21ee3</td>\n",
       "      <td>Zubiet?</td>\n",
       "      <td>grz:isFatherOf</td>\n",
       "      <td>76e0be63-31ef-4382-9565-ec06a8edfd06</td>\n",
       "      <td>Silvestro di Zubiet?</td>\n",
       "    </tr>\n",
       "    <tr>\n",
       "      <th>79604</th>\n",
       "      <td>f8fd0f70-5432-43fa-af39-82464360cf17</td>\n",
       "      <td>Zubit?</td>\n",
       "      <td>grz:isFatherOf</td>\n",
       "      <td>76e0be63-31ef-4382-9565-ec06a8edfd06</td>\n",
       "      <td>Silvestro di Zubiet?</td>\n",
       "    </tr>\n",
       "    <tr>\n",
       "      <th>79607</th>\n",
       "      <td>a0a5afcb-39ce-420d-8257-3a7f4b44e512</td>\n",
       "      <td>Zulian delli Rusi</td>\n",
       "      <td>grz:isFatherOf</td>\n",
       "      <td>b0553264-22f7-4089-a986-a951b86a9271</td>\n",
       "      <td>Gasparo delli Rusi</td>\n",
       "    </tr>\n",
       "    <tr>\n",
       "      <th>79611</th>\n",
       "      <td>24f4759f-7fe4-4c92-afbc-52e2bbac919f</td>\n",
       "      <td>Zulian Furlan</td>\n",
       "      <td>grz:isFatherOf</td>\n",
       "      <td>713fd39d-dc0e-4c93-8086-d58b66f939ff</td>\n",
       "      <td>Lorenzo Furlan (tiraoro)</td>\n",
       "    </tr>\n",
       "    <tr>\n",
       "      <th>79616</th>\n",
       "      <td>ac4b97c9-9521-45a7-96c2-dc25efdebb72</td>\n",
       "      <td>Zuliano Zuliani</td>\n",
       "      <td>grz:isFatherOf</td>\n",
       "      <td>5f1c6d05-37df-454b-8048-3fb66885f09b</td>\n",
       "      <td>Zuane Zuliani</td>\n",
       "    </tr>\n",
       "  </tbody>\n",
       "</table>\n",
       "<p>9417 rows × 5 columns</p>\n",
       "</div>"
      ],
      "text/plain": [
       "                                Person 1 ID      Person 1 Name  \\\n",
       "1      d9838b83-e2c7-42c8-b036-6799d5ca734a  Abbondio D'Apiano   \n",
       "3      8bf2a7c7-4797-439e-8ed5-6717a4eaf51d    Abbondio Gracio   \n",
       "13     ba63b706-3020-46d4-9bd7-8b813029b9b4      Abramo 162446   \n",
       "21     32a926ed-ec94-4575-abbf-c56ec67a3ebb  Achille 153-II306   \n",
       "24     e01d299f-b702-46b9-bf67-74b6ba2ea873            Adamo 1   \n",
       "...                                     ...                ...   \n",
       "79603  cd637d1a-18a7-41b1-8c33-fdb41ad21ee3            Zubiet?   \n",
       "79604  f8fd0f70-5432-43fa-af39-82464360cf17             Zubit?   \n",
       "79607  a0a5afcb-39ce-420d-8257-3a7f4b44e512  Zulian delli Rusi   \n",
       "79611  24f4759f-7fe4-4c92-afbc-52e2bbac919f      Zulian Furlan   \n",
       "79616  ac4b97c9-9521-45a7-96c2-dc25efdebb72    Zuliano Zuliani   \n",
       "\n",
       "      Relationship Type                           Person 2 ID  \\\n",
       "1        grz:isFatherOf  906b7b06-0ed8-4c9e-b525-88f48d5ca056   \n",
       "3        grz:isFatherOf  8d55328a-e415-4d42-a9ca-e048a3c12970   \n",
       "13       grz:isFatherOf  99b83179-b185-421a-a1fd-75a16cbc8528   \n",
       "21       grz:isFatherOf  2773b53e-7472-4d8d-8436-f05b747e6b9f   \n",
       "24       grz:isFatherOf  45026ded-8e12-4f36-9d81-984f6acdae49   \n",
       "...                 ...                                   ...   \n",
       "79603    grz:isFatherOf  76e0be63-31ef-4382-9565-ec06a8edfd06   \n",
       "79604    grz:isFatherOf  76e0be63-31ef-4382-9565-ec06a8edfd06   \n",
       "79607    grz:isFatherOf  b0553264-22f7-4089-a986-a951b86a9271   \n",
       "79611    grz:isFatherOf  713fd39d-dc0e-4c93-8086-d58b66f939ff   \n",
       "79616    grz:isFatherOf  5f1c6d05-37df-454b-8048-3fb66885f09b   \n",
       "\n",
       "                        Person 2 Name  \n",
       "1                  Francesco D'Apiano  \n",
       "3                     Bernardo Gracio  \n",
       "13                  Cristoforo 162446  \n",
       "21     Pomponio di Achille (marangon)  \n",
       "24        Andrea di Adamo (tellariol)  \n",
       "...                               ...  \n",
       "79603            Silvestro di Zubiet?  \n",
       "79604            Silvestro di Zubiet?  \n",
       "79607              Gasparo delli Rusi  \n",
       "79611        Lorenzo Furlan (tiraoro)  \n",
       "79616                   Zuane Zuliani  \n",
       "\n",
       "[9417 rows x 5 columns]"
      ]
     },
     "execution_count": 15,
     "metadata": {},
     "output_type": "execute_result"
    }
   ],
   "source": [
    "is_father_network = df_relationships[df_relationships['Relationship Type'] == 'grz:isFatherOf']\n",
    "is_father_network"
   ]
  },
  {
   "cell_type": "code",
   "execution_count": 25,
   "id": "f430254d",
   "metadata": {},
   "outputs": [
    {
     "data": {
      "application/vnd.microsoft.datawrangler.viewer.v0+json": {
       "columns": [
        {
         "name": "index",
         "rawType": "int64",
         "type": "integer"
        },
        {
         "name": "Person ID",
         "rawType": "object",
         "type": "unknown"
        },
        {
         "name": "Person Name",
         "rawType": "object",
         "type": "unknown"
        },
        {
         "name": "Contract ID",
         "rawType": "object",
         "type": "unknown"
        },
        {
         "name": "Tag",
         "rawType": "object",
         "type": "string"
        }
       ],
       "ref": "7d60bf1a-0abb-42b4-83f9-66fe51d81c7b",
       "rows": [
        [
         "0",
         "f1e0fa88-1ff5-4cc7-8fba-854d148f0306",
         "Paolo Di Bori",
         "f47a0743-e315-4606-bfab-8f603d5000f9",
         "grz:Apprentice"
        ],
        [
         "2",
         "bc3ecc02-652f-42d9-8bba-fc4561152b5a",
         "Nicolò Barazzuso",
         "d74fb5f0-ab73-4e2e-9762-3227294d6899",
         "grz:Master"
        ],
        [
         "4",
         "49f8b298-b445-4715-8feb-97b23ce2770d",
         "Giacomo Durin",
         "197bdfc9-c26a-417f-b0ba-657b81a16cac",
         "grz:Apprentice"
        ],
        [
         "5",
         "065fb6cf-0990-4acb-bf19-bf6b97471767",
         "Battista Crovato 179149",
         "63bb2629-2e05-4df6-a619-fcb42df842a0",
         "grz:Apprentice"
        ],
        [
         "6",
         "bc2fa44a-b7db-4aa7-b39f-c02ba5b43220",
         "Gaspare Homo",
         "d78a05f4-2a87-4cea-928d-460418f5e65b",
         "grz:Apprentice"
        ],
        [
         "8",
         "5aa193e5-3b10-4040-b9d8-52a1a1819591",
         "Zaccaria Casolato",
         "474955e3-e850-4d1c-b524-1f6ac42193e2",
         "grz:Apprentice"
        ],
        [
         "9",
         "b45dffde-0023-48ed-bf62-73f3e2038318",
         "Giovanni Maria Ferrari",
         "a6938350-4473-4f8b-b7ab-27f0a07e3783",
         "grz:Apprentice"
        ],
        [
         "10",
         "1fca4572-04bb-48f1-b7d9-ff54a33bb0bc",
         "Pontel di Zuane",
         "135a2571-8bc8-461f-a4c6-0cb4276a74d9",
         "grz:Apprentice"
        ],
        [
         "12",
         "93084d49-52ff-4d10-9d1c-6e804c15dced",
         "Giovanni Maria Orlandi",
         "c1d87c12-c540-4ddc-8b17-d309a76ac283",
         "grz:Apprentice"
        ],
        [
         "13",
         "758d8745-4e40-4744-97d6-67db0dd39bb4",
         "Pietro Gottoni 171090",
         "45e0225d-77b3-447b-8639-d6af07dcc8eb",
         "grz:Apprentice"
        ],
        [
         "15",
         "9d1c47cd-258e-44fb-afab-2c2cdd9fdcef",
         "Bertollo Varisco",
         "65bd27ef-d6a8-4437-87b2-e4e5cb300556",
         "grz:Apprentice"
        ],
        [
         "16",
         "4c286837-3812-4b5b-a9f0-243fdac56629",
         "Giovanni Maria Fagia",
         "5104949a-9f8b-4ada-8a1f-cfbeab2493f4",
         "grz:Apprentice"
        ],
        [
         "17",
         "0e752d6a-c511-4059-94d8-efe086c7b4a9",
         "Ancillo (frutariol)",
         "183f015d-a487-489a-b11c-9406609d77a4",
         "grz:Master"
        ],
        [
         "18",
         "8979734e-5ab5-478f-bd99-e9c0046bc4e3",
         "Tommaso Di Calegari",
         "5d4a4458-64fd-43f6-af87-45fe8d7d9401",
         "grz:Apprentice"
        ],
        [
         "19",
         "aea86eec-2881-41db-9983-d53d09596dd5",
         "Alberto di Lazzaro",
         "03e59163-5311-4fa0-992a-994e4c9cee70",
         "grz:Apprentice"
        ],
        [
         "22",
         "912a49da-4f44-4e50-bf00-dc34eedf1d54",
         "Giovanni Zenaro",
         "6af9ad7c-e5a9-402a-80fa-f9364c2b81cf",
         "grz:Apprentice"
        ],
        [
         "23",
         "c89a2941-5d6d-4f56-a617-518f31e2bea3",
         "Domenico di Antonio (sartor)",
         "ab217f68-1ec7-4017-b70e-3b5adcb03756",
         "grz:Master"
        ],
        [
         "24",
         "d2fa3d81-fde4-4933-bb1a-61be12082371",
         "Giovanni Migot",
         "10b26c00-a797-4b9e-888b-29b4b64ab358",
         "grz:Apprentice"
        ],
        [
         "25",
         "653adad8-9b90-4fbd-97ab-3e14686553b2",
         "Paolo Algarotti",
         "b3a7ee3f-d9f2-40c2-b12e-e2f6735972f5",
         "grz:Master"
        ],
        [
         "26",
         "cd9aa00a-682f-489e-a250-3f79414e3753",
         "Carlo Lucatello 177144",
         "ed24f729-d522-4efa-9011-abed13434da4",
         "grz:Apprentice"
        ],
        [
         "27",
         "318b5bdf-2b3a-43b4-8157-f57edeca4df0",
         "Gregorio 160285",
         "801ba373-a838-4280-817e-e321e2f7b7bd",
         "grz:Apprentice"
        ],
        [
         "28",
         "61d8d077-d58b-4c0d-b4d5-c969124560a7",
         "Pasqualino di Comin",
         "9585af73-4f01-4bfa-aa6f-b432ef299695",
         "grz:Apprentice"
        ],
        [
         "29",
         "bf4098fb-20a4-4b8a-a5f4-52e8abc76989",
         "Giuseppe Spin",
         "3b3e0754-b286-4885-8bd0-1f0654b078b1",
         "grz:Master"
        ],
        [
         "31",
         "a2708c16-7357-4fe4-858e-2d9e4bf1a888",
         "Antonio Peschiera (tagiapiera)",
         "49fb1026-b3c6-4fe4-8040-10e7c430ca96",
         "grz:Master"
        ],
        [
         "34",
         "86bc699f-0881-4031-ba17-e49a493c4670",
         "Andrea Novaglia",
         "aba5a7d7-383e-4bfb-9e9b-d80cfbbf4ec4",
         "grz:Apprentice"
        ],
        [
         "35",
         "f7df9d12-dbd8-49a4-84dd-8b8820d599e5",
         "Guglielmo Di Rimelin",
         "64cb6ed9-aaae-4be7-ad36-321b181e5187",
         "grz:Master"
        ],
        [
         "36",
         "6871e4da-c255-4c96-9323-735fb7bd5def",
         "Battista Berto 177341",
         "17b3199f-230f-4cd5-ad80-9b48b20f035d",
         "grz:Apprentice"
        ],
        [
         "38",
         "7a112db6-bd6b-4158-83c0-b37e1cd20d58",
         "Alvise Limonin 170326",
         "b903fbe7-27e7-4cc7-a1c3-e1a06518417e",
         "grz:Apprentice"
        ],
        [
         "39",
         "01235ca8-8bbb-4a19-abcc-03310d364ce0",
         "Giovanni Della Rocca 164301",
         "0cabfd0e-e51e-46f0-9c50-735869b7aed4",
         "grz:Apprentice"
        ],
        [
         "40",
         "56685b40-e8f3-48a2-8068-068210cf78c5",
         "Flaminio Scala",
         "37de4f2e-fb0c-4aa9-8240-ccf117a770ee",
         "grz:Master"
        ],
        [
         "42",
         "76021b47-9aff-4844-af0f-cc38e0d480ea",
         "Valentin quondam Colao",
         "81f25f9c-cb60-483b-ab1c-81c464e367a5",
         "grz:Apprentice"
        ],
        [
         "43",
         "70ed8e36-0fa6-4eaf-b4c9-e4d1e8161024",
         "Pietro Longhin",
         "1749d92c-d732-41a6-ba9b-5c0414b76399",
         "grz:Master"
        ],
        [
         "44",
         "b4426ca9-fcfe-47b6-8caf-ef91c0773f45",
         "Paolo Lagurzi",
         "e70355b6-fb3a-4c30-9d0f-92a9772ac223",
         "grz:Apprentice"
        ],
        [
         "45",
         "257c5d48-0987-481a-bb56-4e55769018c2",
         "Marco Panizaro",
         "c5798a9d-32d0-4fa7-a35f-8b4c0e90b13d",
         "grz:Master"
        ],
        [
         "46",
         "2bfe0f61-9440-4254-af1f-39225ec40d51",
         "Antonio Batestin",
         "067f6c07-e0ad-4481-b5cf-6acc1ae49ecc",
         "grz:Apprentice"
        ],
        [
         "48",
         "f340d38a-c60f-41da-8c32-349cb79ac5e9",
         "Donato di Girolamo (milanese)",
         "455be9fa-11b3-42f4-8533-30fabaefe8fc",
         "grz:Apprentice"
        ],
        [
         "49",
         "aa85bd86-545d-4931-a8c1-d39350413341",
         "Giacomo Bergantini",
         "e5114d0f-1e47-40f6-81f3-e99e30a5c10e",
         "grz:Master"
        ],
        [
         "51",
         "0ac7544b-ad4b-4720-be69-041ed0454c15",
         "Giuseppe Contardo",
         "85c21007-2ace-4371-b755-99f8307ef7fd",
         "grz:Master"
        ],
        [
         "53",
         "6c0cae8b-75e6-4c5a-b886-45e82b6235d7",
         "Alvise Brocheta",
         "05191ded-e68a-46d8-9db9-9b8f9859fbd6",
         "grz:Master"
        ],
        [
         "54",
         "d10bcd9e-7d9f-4585-9481-7556eebb1666",
         "Simone di Giovanni 154009",
         "5c3c9fe8-0e25-4671-8a24-f59915fa5158",
         "grz:Apprentice"
        ],
        [
         "57",
         "d159f4c5-a712-459b-ac3d-60c05cdb4b2a",
         "Sebastiano Bortoloti",
         "ac4ae585-1831-409f-b505-370498e64051",
         "grz:Apprentice"
        ],
        [
         "58",
         "c5fe3912-8915-4ea7-ada4-2937af2dfe78",
         "Pietro di Martino 166236",
         "4c48fbd1-aae3-42c8-a4e4-a75cfe2760c8",
         "grz:Apprentice"
        ],
        [
         "62",
         "635a124a-cdd4-41f7-a8b2-0f0cd03f9b56",
         "Giovanni Copis",
         "b971a2dd-8c58-423b-bf6e-cf2a5ab882c1",
         "grz:Master"
        ],
        [
         "63",
         "3f3efae7-0c94-4f84-ace5-f361ee8a4900",
         "Francesco Tirabosco 171269",
         "caffb150-0ae2-4ab9-a99c-dee18245a6bd",
         "grz:Apprentice"
        ],
        [
         "64",
         "ed429bea-8c11-456c-8f1d-561a314db1c7",
         "Antonio di Alessandro",
         "9f66ac54-4c3c-4c87-bbb1-d2fd0fedd3a1",
         "grz:Apprentice"
        ],
        [
         "66",
         "7b870d6f-0b47-400a-a5d1-ecbbe75c9fa7",
         "Giovanni Battista Barbolan",
         "08c9bbeb-8a74-4886-9a4c-47d0df6f86f3",
         "grz:Apprentice"
        ],
        [
         "67",
         "1d6c2611-9057-4532-95f0-de4cd248afa1",
         "Gaspare di Vincenzo (barbier)",
         "eec15cf2-e40d-4a22-ac4e-4121b76f0824",
         "grz:Master"
        ],
        [
         "68",
         "02c24917-4d80-4daa-8271-c7ffdf2b9fbe",
         "Michiel di Gasparo",
         "cdbd86de-3d4f-4b31-8ba6-59984e583ee3",
         "grz:Apprentice"
        ],
        [
         "70",
         "be228a1f-599d-4d1f-9de3-b61d15c3ddf9",
         "Francesco Masser",
         "556722a2-55c2-4e07-a392-1b0f133b0a42",
         "grz:Master"
        ],
        [
         "73",
         "2b250e1c-b56f-4c71-aef4-50ca77d2f46e",
         "Lorenzo Sinozzi",
         "50e1fab7-e10a-430a-b710-ed9f3639f146",
         "grz:Apprentice"
        ]
       ],
       "shape": {
        "columns": 4,
        "rows": 108865
       }
      },
      "text/html": [
       "<div>\n",
       "<style scoped>\n",
       "    .dataframe tbody tr th:only-of-type {\n",
       "        vertical-align: middle;\n",
       "    }\n",
       "\n",
       "    .dataframe tbody tr th {\n",
       "        vertical-align: top;\n",
       "    }\n",
       "\n",
       "    .dataframe thead th {\n",
       "        text-align: right;\n",
       "    }\n",
       "</style>\n",
       "<table border=\"1\" class=\"dataframe\">\n",
       "  <thead>\n",
       "    <tr style=\"text-align: right;\">\n",
       "      <th></th>\n",
       "      <th>Person ID</th>\n",
       "      <th>Person Name</th>\n",
       "      <th>Contract ID</th>\n",
       "      <th>Tag</th>\n",
       "    </tr>\n",
       "  </thead>\n",
       "  <tbody>\n",
       "    <tr>\n",
       "      <th>0</th>\n",
       "      <td>f1e0fa88-1ff5-4cc7-8fba-854d148f0306</td>\n",
       "      <td>Paolo Di Bori</td>\n",
       "      <td>f47a0743-e315-4606-bfab-8f603d5000f9</td>\n",
       "      <td>grz:Apprentice</td>\n",
       "    </tr>\n",
       "    <tr>\n",
       "      <th>2</th>\n",
       "      <td>bc3ecc02-652f-42d9-8bba-fc4561152b5a</td>\n",
       "      <td>Nicolò Barazzuso</td>\n",
       "      <td>d74fb5f0-ab73-4e2e-9762-3227294d6899</td>\n",
       "      <td>grz:Master</td>\n",
       "    </tr>\n",
       "    <tr>\n",
       "      <th>4</th>\n",
       "      <td>49f8b298-b445-4715-8feb-97b23ce2770d</td>\n",
       "      <td>Giacomo Durin</td>\n",
       "      <td>197bdfc9-c26a-417f-b0ba-657b81a16cac</td>\n",
       "      <td>grz:Apprentice</td>\n",
       "    </tr>\n",
       "    <tr>\n",
       "      <th>5</th>\n",
       "      <td>065fb6cf-0990-4acb-bf19-bf6b97471767</td>\n",
       "      <td>Battista Crovato 179149</td>\n",
       "      <td>63bb2629-2e05-4df6-a619-fcb42df842a0</td>\n",
       "      <td>grz:Apprentice</td>\n",
       "    </tr>\n",
       "    <tr>\n",
       "      <th>6</th>\n",
       "      <td>bc2fa44a-b7db-4aa7-b39f-c02ba5b43220</td>\n",
       "      <td>Gaspare Homo</td>\n",
       "      <td>d78a05f4-2a87-4cea-928d-460418f5e65b</td>\n",
       "      <td>grz:Apprentice</td>\n",
       "    </tr>\n",
       "    <tr>\n",
       "      <th>...</th>\n",
       "      <td>...</td>\n",
       "      <td>...</td>\n",
       "      <td>...</td>\n",
       "      <td>...</td>\n",
       "    </tr>\n",
       "    <tr>\n",
       "      <th>156140</th>\n",
       "      <td>ac44d888-933b-412d-9d1e-22c8b87110cb</td>\n",
       "      <td>Agostino de Francesco</td>\n",
       "      <td>1fe25c35-f56d-4f13-afe2-1cf3f05226fc</td>\n",
       "      <td>grz:Master</td>\n",
       "    </tr>\n",
       "    <tr>\n",
       "      <th>156141</th>\n",
       "      <td>f6a5ae1a-c5ba-4d3d-b7d3-b3a59f61d48a</td>\n",
       "      <td>Giovanni Antonio Marchese</td>\n",
       "      <td>263a1e09-f4c0-4214-8b09-d252256f26bb</td>\n",
       "      <td>grz:Apprentice</td>\n",
       "    </tr>\n",
       "    <tr>\n",
       "      <th>156142</th>\n",
       "      <td>2d16203d-1180-4513-96d7-f76b2f4cec3b</td>\n",
       "      <td>Giovanni Battista Panciera (sartor)</td>\n",
       "      <td>870c156d-dea4-4b64-b44e-9c54867a5c4d</td>\n",
       "      <td>grz:Apprentice</td>\n",
       "    </tr>\n",
       "    <tr>\n",
       "      <th>156145</th>\n",
       "      <td>23b1a1f8-1602-470b-b98d-1ccf67e8ce88</td>\n",
       "      <td>Giuseppe Marzini</td>\n",
       "      <td>a88b5738-27ea-41a9-87cb-0c9026eb040b</td>\n",
       "      <td>grz:Apprentice</td>\n",
       "    </tr>\n",
       "    <tr>\n",
       "      <th>156146</th>\n",
       "      <td>79945a24-f605-4790-9064-b60116ac6fa7</td>\n",
       "      <td>Leonardo Bello</td>\n",
       "      <td>eb7354e4-a728-476c-bd8c-b36b5b225806</td>\n",
       "      <td>grz:Apprentice</td>\n",
       "    </tr>\n",
       "  </tbody>\n",
       "</table>\n",
       "<p>108865 rows × 4 columns</p>\n",
       "</div>"
      ],
      "text/plain": [
       "                                   Person ID  \\\n",
       "0       f1e0fa88-1ff5-4cc7-8fba-854d148f0306   \n",
       "2       bc3ecc02-652f-42d9-8bba-fc4561152b5a   \n",
       "4       49f8b298-b445-4715-8feb-97b23ce2770d   \n",
       "5       065fb6cf-0990-4acb-bf19-bf6b97471767   \n",
       "6       bc2fa44a-b7db-4aa7-b39f-c02ba5b43220   \n",
       "...                                      ...   \n",
       "156140  ac44d888-933b-412d-9d1e-22c8b87110cb   \n",
       "156141  f6a5ae1a-c5ba-4d3d-b7d3-b3a59f61d48a   \n",
       "156142  2d16203d-1180-4513-96d7-f76b2f4cec3b   \n",
       "156145  23b1a1f8-1602-470b-b98d-1ccf67e8ce88   \n",
       "156146  79945a24-f605-4790-9064-b60116ac6fa7   \n",
       "\n",
       "                                Person Name  \\\n",
       "0                             Paolo Di Bori   \n",
       "2                          Nicolò Barazzuso   \n",
       "4                             Giacomo Durin   \n",
       "5                   Battista Crovato 179149   \n",
       "6                              Gaspare Homo   \n",
       "...                                     ...   \n",
       "156140                Agostino de Francesco   \n",
       "156141            Giovanni Antonio Marchese   \n",
       "156142  Giovanni Battista Panciera (sartor)   \n",
       "156145                     Giuseppe Marzini   \n",
       "156146                       Leonardo Bello   \n",
       "\n",
       "                                 Contract ID             Tag  \n",
       "0       f47a0743-e315-4606-bfab-8f603d5000f9  grz:Apprentice  \n",
       "2       d74fb5f0-ab73-4e2e-9762-3227294d6899      grz:Master  \n",
       "4       197bdfc9-c26a-417f-b0ba-657b81a16cac  grz:Apprentice  \n",
       "5       63bb2629-2e05-4df6-a619-fcb42df842a0  grz:Apprentice  \n",
       "6       d78a05f4-2a87-4cea-928d-460418f5e65b  grz:Apprentice  \n",
       "...                                      ...             ...  \n",
       "156140  1fe25c35-f56d-4f13-afe2-1cf3f05226fc      grz:Master  \n",
       "156141  263a1e09-f4c0-4214-8b09-d252256f26bb  grz:Apprentice  \n",
       "156142  870c156d-dea4-4b64-b44e-9c54867a5c4d  grz:Apprentice  \n",
       "156145  a88b5738-27ea-41a9-87cb-0c9026eb040b  grz:Apprentice  \n",
       "156146  eb7354e4-a728-476c-bd8c-b36b5b225806  grz:Apprentice  \n",
       "\n",
       "[108865 rows x 4 columns]"
      ]
     },
     "execution_count": 25,
     "metadata": {},
     "output_type": "execute_result"
    }
   ],
   "source": [
    "df_masters_apprantices = df_person_mentions[df_person_mentions['Tag'].isin(['grz:Master', 'grz:Apprentice'])][colum_select]\n",
    "df_masters_apprantices"
   ]
  },
  {
   "cell_type": "code",
   "execution_count": 23,
   "id": "00bb0979",
   "metadata": {},
   "outputs": [
    {
     "data": {
      "application/vnd.microsoft.datawrangler.viewer.v0+json": {
       "columns": [
        {
         "name": "index",
         "rawType": "int64",
         "type": "integer"
        },
        {
         "name": "Person ID_master",
         "rawType": "object",
         "type": "unknown"
        },
        {
         "name": "Person Name_master",
         "rawType": "object",
         "type": "unknown"
        },
        {
         "name": "Contract ID",
         "rawType": "object",
         "type": "unknown"
        },
        {
         "name": "Tag_master",
         "rawType": "object",
         "type": "string"
        },
        {
         "name": "Person ID_apprentice",
         "rawType": "object",
         "type": "unknown"
        },
        {
         "name": "Person Name_apprentice",
         "rawType": "object",
         "type": "unknown"
        },
        {
         "name": "Tag_apprentice",
         "rawType": "object",
         "type": "string"
        }
       ],
       "ref": "924aaf75-cd97-4293-8b0c-7c6dba62a00c",
       "rows": [
        [
         "0",
         "bc3ecc02-652f-42d9-8bba-fc4561152b5a",
         "Nicolò Barazzuso",
         "d74fb5f0-ab73-4e2e-9762-3227294d6899",
         "grz:Master",
         "9073a473-e3fa-49c3-ac7a-2d5d48523e61",
         "Pietro di Domenico 174097",
         "grz:Apprentice"
        ],
        [
         "1",
         "0e752d6a-c511-4059-94d8-efe086c7b4a9",
         "Ancillo (frutariol)",
         "183f015d-a487-489a-b11c-9406609d77a4",
         "grz:Master",
         "0bd14817-aae6-44fb-8a1a-72889ccc9871",
         "Agostino Di Bechi",
         "grz:Apprentice"
        ],
        [
         "2",
         "c89a2941-5d6d-4f56-a617-518f31e2bea3",
         "Domenico di Antonio (sartor)",
         "ab217f68-1ec7-4017-b70e-3b5adcb03756",
         "grz:Master",
         "74427903-a6e5-44bd-a5da-1fd4f1ecdf14",
         "Pietro di Domenico 151270",
         "grz:Apprentice"
        ],
        [
         "3",
         "653adad8-9b90-4fbd-97ab-3e14686553b2",
         "Paolo Algarotti",
         "b3a7ee3f-d9f2-40c2-b12e-e2f6735972f5",
         "grz:Master",
         "94131b97-9bc7-4735-a9be-b6dad07de56e",
         "Antonio Piceni 172190",
         "grz:Apprentice"
        ],
        [
         "4",
         "bf4098fb-20a4-4b8a-a5f4-52e8abc76989",
         "Giuseppe Spin",
         "3b3e0754-b286-4885-8bd0-1f0654b078b1",
         "grz:Master",
         "94795140-83c5-4902-bd5d-9b1144c51388",
         "Giuseppe Di Gariri?",
         "grz:Apprentice"
        ],
        [
         "5",
         "a2708c16-7357-4fe4-858e-2d9e4bf1a888",
         "Antonio Peschiera (tagiapiera)",
         "49fb1026-b3c6-4fe4-8040-10e7c430ca96",
         "grz:Master",
         "e69b4a81-75c3-4112-b834-6982449aff43",
         "Alvise di Andrea",
         "grz:Apprentice"
        ],
        [
         "6",
         "f7df9d12-dbd8-49a4-84dd-8b8820d599e5",
         "Guglielmo Di Rimelin",
         "64cb6ed9-aaae-4be7-ad36-321b181e5187",
         "grz:Master",
         "e12bf785-55bd-48af-afe8-43e5da3f864b",
         "Guglielmo Gallet",
         "grz:Apprentice"
        ],
        [
         "7",
         "56685b40-e8f3-48a2-8068-068210cf78c5",
         "Flaminio Scala",
         "37de4f2e-fb0c-4aa9-8240-ccf117a770ee",
         "grz:Master",
         "f871d12d-eec1-48d6-b45a-4491d23276b2",
         "Zuane Ciotti",
         "grz:Apprentice"
        ],
        [
         "8",
         "70ed8e36-0fa6-4eaf-b4c9-e4d1e8161024",
         "Pietro Longhin",
         "1749d92c-d732-41a6-ba9b-5c0414b76399",
         "grz:Master",
         "2ff54af0-1293-4231-9b7a-2028ea1d579a",
         "Giacomo Macario 172235",
         "grz:Apprentice"
        ],
        [
         "9",
         "257c5d48-0987-481a-bb56-4e55769018c2",
         "Marco Panizaro",
         "c5798a9d-32d0-4fa7-a35f-8b4c0e90b13d",
         "grz:Master",
         "07135fe1-b16c-4243-8b95-5925ef2c415a",
         "Antonio di Marco (aneli falsi)",
         "grz:Apprentice"
        ],
        [
         "10",
         "aa85bd86-545d-4931-a8c1-d39350413341",
         "Giacomo Bergantini",
         "e5114d0f-1e47-40f6-81f3-e99e30a5c10e",
         "grz:Master",
         "2088f35b-b875-49ce-bd10-d4706ed7c8f0",
         "Zuane Battista Cestin",
         "grz:Apprentice"
        ],
        [
         "11",
         "0ac7544b-ad4b-4720-be69-041ed0454c15",
         "Giuseppe Contardo",
         "85c21007-2ace-4371-b755-99f8307ef7fd",
         "grz:Master",
         "1ec4c940-ee4c-479c-889a-f100112afc16",
         "Antonio Giacomello",
         "grz:Apprentice"
        ],
        [
         "12",
         "6c0cae8b-75e6-4c5a-b886-45e82b6235d7",
         "Alvise Brocheta",
         "05191ded-e68a-46d8-9db9-9b8f9859fbd6",
         "grz:Master",
         "e9799d3b-7918-4d43-8958-808dc911aa2f",
         "Antonio di Camillo (bergamasco)",
         "grz:Apprentice"
        ],
        [
         "13",
         "635a124a-cdd4-41f7-a8b2-0f0cd03f9b56",
         "Giovanni Copis",
         "b971a2dd-8c58-423b-bf6e-cf2a5ab882c1",
         "grz:Master",
         "f02b9fe8-0e95-44ef-bd08-5f0812e63c9a",
         "Alvise de Alessandro Fabrizio",
         "grz:Apprentice"
        ],
        [
         "14",
         "1d6c2611-9057-4532-95f0-de4cd248afa1",
         "Gaspare di Vincenzo (barbier)",
         "eec15cf2-e40d-4a22-ac4e-4121b76f0824",
         "grz:Master",
         "4a1ac90b-3c00-4dca-908b-da0a3b7c25fd",
         "Bonantonio  Grandazzo",
         "grz:Apprentice"
        ],
        [
         "15",
         "be228a1f-599d-4d1f-9de3-b61d15c3ddf9",
         "Francesco Masser",
         "556722a2-55c2-4e07-a392-1b0f133b0a42",
         "grz:Master",
         "d92334f3-a9e0-41ea-a095-9efa7d93206b",
         "Bartolomeo Rizardi",
         "grz:Apprentice"
        ],
        [
         "16",
         "582bffb2-3efe-4bf5-816f-66d4fb2f1343",
         "Bartolomeo Bassan",
         "b8f87999-975f-4883-a13e-6c65afb8a9e8",
         "grz:Master",
         "6468c54a-1f89-4d53-8f2b-b3a59fd1342c",
         "Francesco Piron",
         "grz:Apprentice"
        ],
        [
         "17",
         "f6032958-8934-4c70-bd0d-09689f9cdeb3",
         "Giovanni Battista Rossini",
         "ad6126e1-180d-47c9-9119-3c343f5a055d",
         "grz:Master",
         "ea7c4fca-c803-435e-990f-6d979ac80041",
         "Battista Formenti",
         "grz:Apprentice"
        ],
        [
         "18",
         "bf2aa305-b0ae-42e0-894b-0df245cdfd07",
         "Altobello Salicato",
         "9bccb946-3100-4a92-9a46-0a84bd3a54a0",
         "grz:Master",
         "91d8112c-7db9-4e3c-b8c9-2023f567ab3a",
         "Aquilante di Benedetto",
         "grz:Apprentice"
        ],
        [
         "19",
         "8d810bc7-5a3b-4038-9fc5-972f834787db",
         "Giovanni di Giacomo (dai ami)",
         "df2a9dcf-fd56-4aab-83b6-27c1c09c45c2",
         "grz:Master",
         "b52ae72e-efd7-4ca0-9e98-f76e3a9bc642",
         "Bartolomeo Manara",
         "grz:Apprentice"
        ],
        [
         "20",
         "e9f28cac-e9cf-42b4-9bfe-4794ec3544f8",
         "Giovanni Dal Favro (spechier)",
         "71f96d7b-0b19-4815-ab03-65c3f6646305",
         "grz:Master",
         "c29e1e69-cc6e-478d-8ecf-080a788b85e0",
         "Biagio Bozatto",
         "grz:Apprentice"
        ],
        [
         "21",
         "1b268247-b0e8-4e51-be6a-6cbb6964300a",
         "Domenico De Vincenzo (tesser da tela)",
         "7658b899-1307-4011-a722-55f87765630b",
         "grz:Master",
         "e9a00155-26b3-46a4-9c76-38456475144c",
         "Angelo Feltrin",
         "grz:Apprentice"
        ],
        [
         "22",
         "cd449567-fccd-4106-b0f9-db8271288f14",
         "Giovanni Battista (calderer)",
         "d0ecfb31-0961-468d-a602-fd1473c250e2",
         "grz:Master",
         "8991251d-5b7c-425f-9e2b-d2312d000dfb",
         "Paolo di Bernardo 166377",
         "grz:Apprentice"
        ],
        [
         "23",
         "ac4f9ed5-4e7a-456c-ae79-803e4e957e48",
         "Martino di Girolamo (spechier)",
         "19daf4d9-1209-474a-965a-0cc4cb977e53",
         "grz:Master",
         "e772d175-ad17-4894-8120-ebb6440b827f",
         "Paolo De Vecchini",
         "grz:Apprentice"
        ],
        [
         "24",
         "23f019af-92e5-4395-9686-6d87a8be5f05",
         "Bernardo Loredan",
         "c15400f1-018e-47c1-990f-b3a5afdbce7d",
         "grz:Master",
         "c265d90f-37c9-4aad-9ba5-54924298c284",
         "Domenico Manarato",
         "grz:Apprentice"
        ],
        [
         "25",
         "e1300a03-e7b1-4b86-8b16-bd1f53bf45ca",
         "Giulio (zoccoler) 161348",
         "0f000eb5-5ae3-4683-8d75-fcd2fe7112fd",
         "grz:Master",
         "ec332269-5aa2-49ee-8b7b-f92b1afad4bd",
         "Francesco Pasin",
         "grz:Apprentice"
        ],
        [
         "26",
         "a9db535a-c25a-4967-95ea-c52f2625f1d9",
         "Olivo (casseler)",
         "6c9d0d5f-6d0f-4f24-8537-dbcf90f43185",
         "grz:Master",
         "3b2b8e2f-1553-4cb2-8672-811b4851fed9",
         "Ambrogio Ambronisel",
         "grz:Apprentice"
        ],
        [
         "27",
         "87cb515c-1272-42ee-934a-0d8f4e16c40b",
         "Salvatore De Rinaldo",
         "3215f980-ca7e-4319-b22e-3f25b78d420a",
         "grz:Master",
         "d36348b0-0f4b-4e2e-971e-c3e9df8cd203",
         "Geronimo De Valentino",
         "grz:Apprentice"
        ],
        [
         "28",
         "c3de5b03-39cf-45a0-aab8-dfda4eae2a3d",
         "Zuan Antonio Quati",
         "a44c4092-a0db-4c09-ba47-e2a30d1134e7",
         "grz:Master",
         "77728309-7d8c-4a07-8f5c-392e7868b952",
         "Lucio di Gnechi",
         "grz:Apprentice"
        ],
        [
         "29",
         "fb5cf9f0-a906-4e6b-b8fb-0af198689bb3",
         "Giovanni Di Bottico",
         "dfb4d653-db3d-4b49-8561-d33340a04fb4",
         "grz:Master",
         "f6ac1f21-46ae-4262-80f0-9cf55fdb7d89",
         "Stefano Dall'Anzolo",
         "grz:Apprentice"
        ],
        [
         "30",
         "3cb93421-eb47-4b9c-a9bb-10b4fb4b379f",
         "Alberto di Anzoli",
         "e156f528-5f14-4f76-9d43-988586125e19",
         "grz:Master",
         "e5e17fb8-8e25-42e0-b4f5-506474449cc1",
         "Bernardin quondam Oratio",
         "grz:Apprentice"
        ],
        [
         "31",
         "e0d9430c-3a88-4111-b795-69ef9c791895",
         "Antonio Astori (marangon)",
         "ab0d7880-af5a-4cad-b206-cd7c643c5bb7",
         "grz:Master",
         "cba4cbcd-44c4-47cf-a3f0-a9f869829e2b",
         "Lorenzo d'Alban",
         "grz:Apprentice"
        ],
        [
         "32",
         "f06c1a79-0c08-414d-9d74-a28aca3ed04a",
         "Giuseppe Gracioli",
         "95f5c1f7-3bf8-4295-8708-9be70d8dbb29",
         "grz:Master",
         "a9957432-a283-48da-9af6-01ce9dde1c65",
         "Pietro Coldinelli",
         "grz:Apprentice"
        ],
        [
         "33",
         "f437bc1a-8bb3-4313-bdc6-6a1879c74b6b",
         "Pasqualin (tiraoro) 1",
         "1cfced08-88f5-4b07-95da-fda0385a1ff4",
         "grz:Master",
         "483cf3f3-7881-4fd1-be4c-bd14cba3dbe5",
         "Giovane de Nes",
         "grz:Apprentice"
        ],
        [
         "34",
         "8c083ff2-4b2c-405d-8af3-124f7c83e8eb",
         "Domenico Sanco",
         "85c0e51e-6aad-4cc6-b1b9-514c8a213fda",
         "grz:Master",
         "61725591-2e01-44b5-a82b-dda50b8e43b8",
         "Pietro Strolfo",
         "grz:Apprentice"
        ],
        [
         "35",
         "d83e2063-d623-418c-ab46-7e6f5484a711",
         "Pellegrino di Nicolò",
         "0fb14ccf-cfff-4d73-87ba-2d7e0d2bf9c3",
         "grz:Master",
         "2075a763-0def-4fd0-84a2-5d2e4a389232",
         "Battista Di Piva",
         "grz:Apprentice"
        ],
        [
         "36",
         "e355333a-29cc-47a1-afe6-d89f8dede954",
         "Tomaso di Tonelli",
         "6655d96e-c0a7-4500-b41d-d57420325cdf",
         "grz:Master",
         "90132b61-63cf-48bf-bc66-c475074b31d6",
         "Cabriel di Faleti",
         "grz:Apprentice"
        ],
        [
         "37",
         "ffa17340-1985-4378-a891-c9b3903e7a4d",
         "Venturino Pedrali",
         "b50a7ead-0965-4329-9b65-499429f4d686",
         "grz:Master",
         "93084c23-7703-4eb6-9de7-bef586ad001a",
         "Bartolomeo di Benedetto",
         "grz:Apprentice"
        ],
        [
         "38",
         "58006ead-d06c-409d-a663-288137cd1b43",
         "Tommaso Castello (spezier)",
         "31f19e43-5be0-4129-bec8-e1e1c37e915a",
         "grz:Master",
         "14b43727-75b4-4e77-8f51-5d4fa40d81b8",
         "Cesare Laghi",
         "grz:Apprentice"
        ],
        [
         "39",
         "d4a4b937-2ac7-4b39-9f2b-17a9ac45974c",
         "Ubaldo Di Ubaldi",
         "9c106f49-0032-4ebd-badd-2ebdc4e9a83e",
         "grz:Master",
         "3ad540ec-2b12-4336-b640-5bde918e2a82",
         "Francesco Languidi",
         "grz:Apprentice"
        ],
        [
         "40",
         "d22bc5f8-10fc-4d82-a04d-8a73d3f14d83",
         "Martin di Lionello",
         "6f24f886-e165-45f0-8d95-4b2d3f08476b",
         "grz:Master",
         "fa707245-a606-4995-a122-ce7375d3828d",
         "Michiel di Giacomo (da Venezia)",
         "grz:Apprentice"
        ],
        [
         "41",
         "0d235847-e1cf-438b-9e7e-65ed4e7bf9ee",
         "Rocco Andrinopoli",
         "7789ef53-2d4a-4876-b32a-e4d35bb20e0f",
         "grz:Master",
         "a2060711-f2e3-4c6f-b5f0-ae959f1160fc",
         "Giovanni Maschieto",
         "grz:Apprentice"
        ],
        [
         "42",
         "1fe73e4e-18de-49a3-bc99-5a9438f2c6a0",
         "Zuane di Giacomo (favro)",
         "22cee511-6e70-479f-9947-dc0b0bd22ef2",
         "grz:Master",
         "a4ed1fdc-44dd-4ed0-9087-7ebc22410db4",
         "Isepo di Cera",
         "grz:Apprentice"
        ],
        [
         "43",
         "646ae56d-cc74-4302-a3ee-d627a711259b",
         "Pietro (zavater) 173449",
         "1bff4d0a-800b-4015-8f6e-381ae535f850",
         "grz:Master",
         "9f5d6d8c-413a-434b-9f41-4e59f940324c",
         "Giovanni Di Negri 173449",
         "grz:Apprentice"
        ],
        [
         "44",
         "04f163eb-f386-4f00-a225-4cda7e080938",
         "Giovanni Minio 178056",
         "444edbbd-a318-448f-add7-1bc56eed6f2c",
         "grz:Master",
         "0470cd01-7c32-42e8-a71f-73a1dc643a9e",
         "Andrea Minio",
         "grz:Apprentice"
        ],
        [
         "45",
         "0a62f2ba-bdcb-4542-9853-8ce8638e1ccb",
         "Tommaso Pitigian",
         "a04068ff-c82e-4e98-94cf-33b6b240322f",
         "grz:Master",
         "547639a4-cdd6-4b2b-bd81-eef5e3867ba2",
         "Orazio Di Barbieri 171229",
         "grz:Apprentice"
        ],
        [
         "46",
         "2e549508-ccfc-4431-a5e0-e5bdfd9c941c",
         "Girolamo Buregana",
         "80c08e09-6395-4f54-a3ed-31af87dad315",
         "grz:Master",
         "62a293d8-30c0-4dfa-ab93-546fc3689fda",
         "Vincenzo Cai",
         "grz:Apprentice"
        ],
        [
         "47",
         "bff6b241-bd74-4c13-b45f-1e610161adf4",
         "Antonio Lucodo",
         "54ecb291-8150-4f7f-a0a0-da59f73be502",
         "grz:Master",
         "bc1e4556-81db-46ba-ad88-3ebeb95c06a4",
         "Lorenzo Thampo",
         "grz:Apprentice"
        ],
        [
         "48",
         "129bf9a7-b124-4d3e-b21c-44203ad085a8",
         "Giacomo Conzago (calderer)",
         "6d74481c-c25a-4293-a766-4df3bd76f2c2",
         "grz:Master",
         "3b27a2db-18a7-4055-bcbb-3a5d9b330f88",
         "Vincenzo de Giovanni 161400",
         "grz:Apprentice"
        ],
        [
         "49",
         "c1289b53-6de1-4144-876e-aa4e621a8a32",
         "Alessandro di Maffeo (boter)",
         "46009c24-7cb6-45d3-8360-82759f28ef2c",
         "grz:Master",
         "b82d2e21-644e-4a2f-889c-042d5232348a",
         "Bartolomeo di Giovanni 160051",
         "grz:Apprentice"
        ]
       ],
       "shape": {
        "columns": 7,
        "rows": 54790
       }
      },
      "text/html": [
       "<div>\n",
       "<style scoped>\n",
       "    .dataframe tbody tr th:only-of-type {\n",
       "        vertical-align: middle;\n",
       "    }\n",
       "\n",
       "    .dataframe tbody tr th {\n",
       "        vertical-align: top;\n",
       "    }\n",
       "\n",
       "    .dataframe thead th {\n",
       "        text-align: right;\n",
       "    }\n",
       "</style>\n",
       "<table border=\"1\" class=\"dataframe\">\n",
       "  <thead>\n",
       "    <tr style=\"text-align: right;\">\n",
       "      <th></th>\n",
       "      <th>Person ID_master</th>\n",
       "      <th>Person Name_master</th>\n",
       "      <th>Contract ID</th>\n",
       "      <th>Tag_master</th>\n",
       "      <th>Person ID_apprentice</th>\n",
       "      <th>Person Name_apprentice</th>\n",
       "      <th>Tag_apprentice</th>\n",
       "    </tr>\n",
       "  </thead>\n",
       "  <tbody>\n",
       "    <tr>\n",
       "      <th>0</th>\n",
       "      <td>bc3ecc02-652f-42d9-8bba-fc4561152b5a</td>\n",
       "      <td>Nicolò Barazzuso</td>\n",
       "      <td>d74fb5f0-ab73-4e2e-9762-3227294d6899</td>\n",
       "      <td>grz:Master</td>\n",
       "      <td>9073a473-e3fa-49c3-ac7a-2d5d48523e61</td>\n",
       "      <td>Pietro di Domenico 174097</td>\n",
       "      <td>grz:Apprentice</td>\n",
       "    </tr>\n",
       "    <tr>\n",
       "      <th>1</th>\n",
       "      <td>0e752d6a-c511-4059-94d8-efe086c7b4a9</td>\n",
       "      <td>Ancillo (frutariol)</td>\n",
       "      <td>183f015d-a487-489a-b11c-9406609d77a4</td>\n",
       "      <td>grz:Master</td>\n",
       "      <td>0bd14817-aae6-44fb-8a1a-72889ccc9871</td>\n",
       "      <td>Agostino Di Bechi</td>\n",
       "      <td>grz:Apprentice</td>\n",
       "    </tr>\n",
       "    <tr>\n",
       "      <th>2</th>\n",
       "      <td>c89a2941-5d6d-4f56-a617-518f31e2bea3</td>\n",
       "      <td>Domenico di Antonio (sartor)</td>\n",
       "      <td>ab217f68-1ec7-4017-b70e-3b5adcb03756</td>\n",
       "      <td>grz:Master</td>\n",
       "      <td>74427903-a6e5-44bd-a5da-1fd4f1ecdf14</td>\n",
       "      <td>Pietro di Domenico 151270</td>\n",
       "      <td>grz:Apprentice</td>\n",
       "    </tr>\n",
       "    <tr>\n",
       "      <th>3</th>\n",
       "      <td>653adad8-9b90-4fbd-97ab-3e14686553b2</td>\n",
       "      <td>Paolo Algarotti</td>\n",
       "      <td>b3a7ee3f-d9f2-40c2-b12e-e2f6735972f5</td>\n",
       "      <td>grz:Master</td>\n",
       "      <td>94131b97-9bc7-4735-a9be-b6dad07de56e</td>\n",
       "      <td>Antonio Piceni 172190</td>\n",
       "      <td>grz:Apprentice</td>\n",
       "    </tr>\n",
       "    <tr>\n",
       "      <th>4</th>\n",
       "      <td>bf4098fb-20a4-4b8a-a5f4-52e8abc76989</td>\n",
       "      <td>Giuseppe Spin</td>\n",
       "      <td>3b3e0754-b286-4885-8bd0-1f0654b078b1</td>\n",
       "      <td>grz:Master</td>\n",
       "      <td>94795140-83c5-4902-bd5d-9b1144c51388</td>\n",
       "      <td>Giuseppe Di Gariri?</td>\n",
       "      <td>grz:Apprentice</td>\n",
       "    </tr>\n",
       "    <tr>\n",
       "      <th>...</th>\n",
       "      <td>...</td>\n",
       "      <td>...</td>\n",
       "      <td>...</td>\n",
       "      <td>...</td>\n",
       "      <td>...</td>\n",
       "      <td>...</td>\n",
       "      <td>...</td>\n",
       "    </tr>\n",
       "    <tr>\n",
       "      <th>54785</th>\n",
       "      <td>a0a0071d-ad71-485b-991d-7f9922bbd672</td>\n",
       "      <td>Piero Menardi</td>\n",
       "      <td>e961f731-5bfd-47e4-861f-05b0c0904cf1</td>\n",
       "      <td>grz:Master</td>\n",
       "      <td>ba4c857c-985f-4eeb-b8db-d1bc62432fea</td>\n",
       "      <td>Zuane Azalle</td>\n",
       "      <td>grz:Apprentice</td>\n",
       "    </tr>\n",
       "    <tr>\n",
       "      <th>54786</th>\n",
       "      <td>d2bfdaeb-5601-4be3-b0e9-d473aad0fda0</td>\n",
       "      <td>Paolo Capenir</td>\n",
       "      <td>81db0496-0d79-467c-8586-7061e5a16453</td>\n",
       "      <td>grz:Master</td>\n",
       "      <td>8e9bc84a-f2d3-4afc-8e90-931b70b2ec23</td>\n",
       "      <td>Giacomo Di Barlieri</td>\n",
       "      <td>grz:Apprentice</td>\n",
       "    </tr>\n",
       "    <tr>\n",
       "      <th>54787</th>\n",
       "      <td>b412c9c5-f582-4916-93c4-180e34398a9c</td>\n",
       "      <td>Gerolamo Boldrini</td>\n",
       "      <td>40ad9c6e-d121-4d7e-8a0c-0e0601e05612</td>\n",
       "      <td>grz:Master</td>\n",
       "      <td>8029e1ba-ca84-4ab7-a8e7-089d51ee4520</td>\n",
       "      <td>Nicolò Taccolin</td>\n",
       "      <td>grz:Apprentice</td>\n",
       "    </tr>\n",
       "    <tr>\n",
       "      <th>54788</th>\n",
       "      <td>a73f3d96-1120-4066-bd20-4fb636bc29c7</td>\n",
       "      <td>Domenico di Paolo (boter)</td>\n",
       "      <td>a739f105-9c71-4ceb-b369-3de4c271a83a</td>\n",
       "      <td>grz:Master</td>\n",
       "      <td>1fab2829-c6a1-4588-bc85-251bc8d18735</td>\n",
       "      <td>Pietro del Mondanese</td>\n",
       "      <td>grz:Apprentice</td>\n",
       "    </tr>\n",
       "    <tr>\n",
       "      <th>54789</th>\n",
       "      <td>ac44d888-933b-412d-9d1e-22c8b87110cb</td>\n",
       "      <td>Agostino de Francesco</td>\n",
       "      <td>1fe25c35-f56d-4f13-afe2-1cf3f05226fc</td>\n",
       "      <td>grz:Master</td>\n",
       "      <td>c2a7e4a7-45e3-4c9d-a566-263c955f0be9</td>\n",
       "      <td>Zaccaria de Bernardo</td>\n",
       "      <td>grz:Apprentice</td>\n",
       "    </tr>\n",
       "  </tbody>\n",
       "</table>\n",
       "<p>54790 rows × 7 columns</p>\n",
       "</div>"
      ],
      "text/plain": [
       "                           Person ID_master            Person Name_master  \\\n",
       "0      bc3ecc02-652f-42d9-8bba-fc4561152b5a              Nicolò Barazzuso   \n",
       "1      0e752d6a-c511-4059-94d8-efe086c7b4a9           Ancillo (frutariol)   \n",
       "2      c89a2941-5d6d-4f56-a617-518f31e2bea3  Domenico di Antonio (sartor)   \n",
       "3      653adad8-9b90-4fbd-97ab-3e14686553b2               Paolo Algarotti   \n",
       "4      bf4098fb-20a4-4b8a-a5f4-52e8abc76989                 Giuseppe Spin   \n",
       "...                                     ...                           ...   \n",
       "54785  a0a0071d-ad71-485b-991d-7f9922bbd672                 Piero Menardi   \n",
       "54786  d2bfdaeb-5601-4be3-b0e9-d473aad0fda0                 Paolo Capenir   \n",
       "54787  b412c9c5-f582-4916-93c4-180e34398a9c             Gerolamo Boldrini   \n",
       "54788  a73f3d96-1120-4066-bd20-4fb636bc29c7     Domenico di Paolo (boter)   \n",
       "54789  ac44d888-933b-412d-9d1e-22c8b87110cb         Agostino de Francesco   \n",
       "\n",
       "                                Contract ID  Tag_master  \\\n",
       "0      d74fb5f0-ab73-4e2e-9762-3227294d6899  grz:Master   \n",
       "1      183f015d-a487-489a-b11c-9406609d77a4  grz:Master   \n",
       "2      ab217f68-1ec7-4017-b70e-3b5adcb03756  grz:Master   \n",
       "3      b3a7ee3f-d9f2-40c2-b12e-e2f6735972f5  grz:Master   \n",
       "4      3b3e0754-b286-4885-8bd0-1f0654b078b1  grz:Master   \n",
       "...                                     ...         ...   \n",
       "54785  e961f731-5bfd-47e4-861f-05b0c0904cf1  grz:Master   \n",
       "54786  81db0496-0d79-467c-8586-7061e5a16453  grz:Master   \n",
       "54787  40ad9c6e-d121-4d7e-8a0c-0e0601e05612  grz:Master   \n",
       "54788  a739f105-9c71-4ceb-b369-3de4c271a83a  grz:Master   \n",
       "54789  1fe25c35-f56d-4f13-afe2-1cf3f05226fc  grz:Master   \n",
       "\n",
       "                       Person ID_apprentice     Person Name_apprentice  \\\n",
       "0      9073a473-e3fa-49c3-ac7a-2d5d48523e61  Pietro di Domenico 174097   \n",
       "1      0bd14817-aae6-44fb-8a1a-72889ccc9871          Agostino Di Bechi   \n",
       "2      74427903-a6e5-44bd-a5da-1fd4f1ecdf14  Pietro di Domenico 151270   \n",
       "3      94131b97-9bc7-4735-a9be-b6dad07de56e      Antonio Piceni 172190   \n",
       "4      94795140-83c5-4902-bd5d-9b1144c51388        Giuseppe Di Gariri?   \n",
       "...                                     ...                        ...   \n",
       "54785  ba4c857c-985f-4eeb-b8db-d1bc62432fea               Zuane Azalle   \n",
       "54786  8e9bc84a-f2d3-4afc-8e90-931b70b2ec23        Giacomo Di Barlieri   \n",
       "54787  8029e1ba-ca84-4ab7-a8e7-089d51ee4520            Nicolò Taccolin   \n",
       "54788  1fab2829-c6a1-4588-bc85-251bc8d18735       Pietro del Mondanese   \n",
       "54789  c2a7e4a7-45e3-4c9d-a566-263c955f0be9       Zaccaria de Bernardo   \n",
       "\n",
       "       Tag_apprentice  \n",
       "0      grz:Apprentice  \n",
       "1      grz:Apprentice  \n",
       "2      grz:Apprentice  \n",
       "3      grz:Apprentice  \n",
       "4      grz:Apprentice  \n",
       "...               ...  \n",
       "54785  grz:Apprentice  \n",
       "54786  grz:Apprentice  \n",
       "54787  grz:Apprentice  \n",
       "54788  grz:Apprentice  \n",
       "54789  grz:Apprentice  \n",
       "\n",
       "[54790 rows x 7 columns]"
      ]
     },
     "execution_count": 23,
     "metadata": {},
     "output_type": "execute_result"
    }
   ],
   "source": [
    "colum_select = ['Person ID', 'Person Name', 'Contract ID', 'Tag']\n",
    "df_masters = df_person_mentions[df_person_mentions['Tag'].isin(['grz:Master'])][colum_select]\n",
    "df_apprantices = df_person_mentions[df_person_mentions['Tag'].isin(['grz:Apprentice'])][colum_select]\n",
    "\n",
    "df_master_apprentice = pd.merge(\n",
    "    df_masters,\n",
    "    df_apprantices,\n",
    "    on='Contract ID',\n",
    "    suffixes=('_master', '_apprentice')\n",
    ")\n",
    "df_master_apprentice"
   ]
  }
 ],
 "metadata": {
  "kernelspec": {
   "display_name": "Python (ada)",
   "language": "python",
   "name": "ada"
  },
  "language_info": {
   "codemirror_mode": {
    "name": "ipython",
    "version": 3
   },
   "file_extension": ".py",
   "mimetype": "text/x-python",
   "name": "python",
   "nbconvert_exporter": "python",
   "pygments_lexer": "ipython3",
   "version": "3.12.9"
  }
 },
 "nbformat": 4,
 "nbformat_minor": 5
}
